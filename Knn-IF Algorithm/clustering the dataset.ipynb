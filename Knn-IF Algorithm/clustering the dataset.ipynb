{
 "cells": [
  {
   "cell_type": "code",
   "execution_count": 234,
   "metadata": {},
   "outputs": [],
   "source": [
    "import pandas as pd\n",
    "import numpy as np\n",
    "import random\n",
    "from sklearn import datasets, linear_model\n",
    "from sklearn.model_selection import train_test_split\n",
    "from matplotlib import pyplot as plt"
   ]
  },
  {
   "cell_type": "code",
   "execution_count": 235,
   "metadata": {},
   "outputs": [],
   "source": [
    "datavalidate = pd.DataFrame({1:[1,8,6,2,3,1,8,6,2,3],2:[1,2,1,9,5,1,8,6,2,3],3:[4,1,8,2,5,1,8,6,2,3],4:[1,2,5,6,2,1,8,6,2,3],3:[1,2,1,9,5,1,8,6,2,3],4:[1,2,1,9,5,1,8,6,2,3],5:[1,2,1,9,5,1,8,6,2,3],6:[1,2,1,9,5,1,8,6,2,3],7:[1,2,1,9,5,1,8,6,2,3],8:[1,2,1,9,5,1,8,6,2,3],10:[1,2,1,9,5,1,8,6,2,3],11:[1,2,1,9,5,1,8,6,2,3],12:[1,2,1,9,5,1,8,6,2,3],13:[1,2,1,9,5,1,8,6,2,3],14:[1,2,1,9,5,1,8,6,2,3],15:[1,2,1,9,5,1,8,6,2,3],16:[1,2,1,9,5,1,8,6,2,3],'ans' : ['a','b','a','c','b','a','b','a','c','b']})"
   ]
  },
  {
   "cell_type": "code",
   "execution_count": 236,
   "metadata": {},
   "outputs": [],
   "source": [
    "# datavalidate = pd.DataFrame({1:[1,8,6,2,3,1,8,6,2,3],2:[1,2,1,9,5,1,8,6,2,3],3:[4,1,8,2,5,1,8,6,2,3],4:[1,2,5,6,2,1,8,6,2,3],3:[1,2,1,9,5,1,8,6,2,3],4:[1,2,1,9,5,1,8,6,2,3],5:[1,2,1,9,5,1,8,6,2,3],'ans' : ['a','b','a','c','b','a','b','a','c','b']})"
   ]
  },
  {
   "cell_type": "code",
   "execution_count": 237,
   "metadata": {
    "scrolled": false
   },
   "outputs": [
    {
     "data": {
      "text/html": [
       "<div>\n",
       "<style scoped>\n",
       "    .dataframe tbody tr th:only-of-type {\n",
       "        vertical-align: middle;\n",
       "    }\n",
       "\n",
       "    .dataframe tbody tr th {\n",
       "        vertical-align: top;\n",
       "    }\n",
       "\n",
       "    .dataframe thead th {\n",
       "        text-align: right;\n",
       "    }\n",
       "</style>\n",
       "<table border=\"1\" class=\"dataframe\">\n",
       "  <thead>\n",
       "    <tr style=\"text-align: right;\">\n",
       "      <th></th>\n",
       "      <th>1</th>\n",
       "      <th>2</th>\n",
       "      <th>3</th>\n",
       "      <th>4</th>\n",
       "      <th>5</th>\n",
       "      <th>6</th>\n",
       "      <th>7</th>\n",
       "      <th>8</th>\n",
       "      <th>10</th>\n",
       "      <th>11</th>\n",
       "      <th>12</th>\n",
       "      <th>13</th>\n",
       "      <th>14</th>\n",
       "      <th>15</th>\n",
       "      <th>16</th>\n",
       "      <th>ans</th>\n",
       "    </tr>\n",
       "  </thead>\n",
       "  <tbody>\n",
       "    <tr>\n",
       "      <th>0</th>\n",
       "      <td>1</td>\n",
       "      <td>1</td>\n",
       "      <td>1</td>\n",
       "      <td>1</td>\n",
       "      <td>1</td>\n",
       "      <td>1</td>\n",
       "      <td>1</td>\n",
       "      <td>1</td>\n",
       "      <td>1</td>\n",
       "      <td>1</td>\n",
       "      <td>1</td>\n",
       "      <td>1</td>\n",
       "      <td>1</td>\n",
       "      <td>1</td>\n",
       "      <td>1</td>\n",
       "      <td>a</td>\n",
       "    </tr>\n",
       "    <tr>\n",
       "      <th>1</th>\n",
       "      <td>8</td>\n",
       "      <td>2</td>\n",
       "      <td>2</td>\n",
       "      <td>2</td>\n",
       "      <td>2</td>\n",
       "      <td>2</td>\n",
       "      <td>2</td>\n",
       "      <td>2</td>\n",
       "      <td>2</td>\n",
       "      <td>2</td>\n",
       "      <td>2</td>\n",
       "      <td>2</td>\n",
       "      <td>2</td>\n",
       "      <td>2</td>\n",
       "      <td>2</td>\n",
       "      <td>b</td>\n",
       "    </tr>\n",
       "    <tr>\n",
       "      <th>2</th>\n",
       "      <td>6</td>\n",
       "      <td>1</td>\n",
       "      <td>1</td>\n",
       "      <td>1</td>\n",
       "      <td>1</td>\n",
       "      <td>1</td>\n",
       "      <td>1</td>\n",
       "      <td>1</td>\n",
       "      <td>1</td>\n",
       "      <td>1</td>\n",
       "      <td>1</td>\n",
       "      <td>1</td>\n",
       "      <td>1</td>\n",
       "      <td>1</td>\n",
       "      <td>1</td>\n",
       "      <td>a</td>\n",
       "    </tr>\n",
       "    <tr>\n",
       "      <th>3</th>\n",
       "      <td>2</td>\n",
       "      <td>9</td>\n",
       "      <td>9</td>\n",
       "      <td>9</td>\n",
       "      <td>9</td>\n",
       "      <td>9</td>\n",
       "      <td>9</td>\n",
       "      <td>9</td>\n",
       "      <td>9</td>\n",
       "      <td>9</td>\n",
       "      <td>9</td>\n",
       "      <td>9</td>\n",
       "      <td>9</td>\n",
       "      <td>9</td>\n",
       "      <td>9</td>\n",
       "      <td>c</td>\n",
       "    </tr>\n",
       "    <tr>\n",
       "      <th>4</th>\n",
       "      <td>3</td>\n",
       "      <td>5</td>\n",
       "      <td>5</td>\n",
       "      <td>5</td>\n",
       "      <td>5</td>\n",
       "      <td>5</td>\n",
       "      <td>5</td>\n",
       "      <td>5</td>\n",
       "      <td>5</td>\n",
       "      <td>5</td>\n",
       "      <td>5</td>\n",
       "      <td>5</td>\n",
       "      <td>5</td>\n",
       "      <td>5</td>\n",
       "      <td>5</td>\n",
       "      <td>b</td>\n",
       "    </tr>\n",
       "    <tr>\n",
       "      <th>5</th>\n",
       "      <td>1</td>\n",
       "      <td>1</td>\n",
       "      <td>1</td>\n",
       "      <td>1</td>\n",
       "      <td>1</td>\n",
       "      <td>1</td>\n",
       "      <td>1</td>\n",
       "      <td>1</td>\n",
       "      <td>1</td>\n",
       "      <td>1</td>\n",
       "      <td>1</td>\n",
       "      <td>1</td>\n",
       "      <td>1</td>\n",
       "      <td>1</td>\n",
       "      <td>1</td>\n",
       "      <td>a</td>\n",
       "    </tr>\n",
       "    <tr>\n",
       "      <th>6</th>\n",
       "      <td>8</td>\n",
       "      <td>8</td>\n",
       "      <td>8</td>\n",
       "      <td>8</td>\n",
       "      <td>8</td>\n",
       "      <td>8</td>\n",
       "      <td>8</td>\n",
       "      <td>8</td>\n",
       "      <td>8</td>\n",
       "      <td>8</td>\n",
       "      <td>8</td>\n",
       "      <td>8</td>\n",
       "      <td>8</td>\n",
       "      <td>8</td>\n",
       "      <td>8</td>\n",
       "      <td>b</td>\n",
       "    </tr>\n",
       "    <tr>\n",
       "      <th>7</th>\n",
       "      <td>6</td>\n",
       "      <td>6</td>\n",
       "      <td>6</td>\n",
       "      <td>6</td>\n",
       "      <td>6</td>\n",
       "      <td>6</td>\n",
       "      <td>6</td>\n",
       "      <td>6</td>\n",
       "      <td>6</td>\n",
       "      <td>6</td>\n",
       "      <td>6</td>\n",
       "      <td>6</td>\n",
       "      <td>6</td>\n",
       "      <td>6</td>\n",
       "      <td>6</td>\n",
       "      <td>a</td>\n",
       "    </tr>\n",
       "    <tr>\n",
       "      <th>8</th>\n",
       "      <td>2</td>\n",
       "      <td>2</td>\n",
       "      <td>2</td>\n",
       "      <td>2</td>\n",
       "      <td>2</td>\n",
       "      <td>2</td>\n",
       "      <td>2</td>\n",
       "      <td>2</td>\n",
       "      <td>2</td>\n",
       "      <td>2</td>\n",
       "      <td>2</td>\n",
       "      <td>2</td>\n",
       "      <td>2</td>\n",
       "      <td>2</td>\n",
       "      <td>2</td>\n",
       "      <td>c</td>\n",
       "    </tr>\n",
       "    <tr>\n",
       "      <th>9</th>\n",
       "      <td>3</td>\n",
       "      <td>3</td>\n",
       "      <td>3</td>\n",
       "      <td>3</td>\n",
       "      <td>3</td>\n",
       "      <td>3</td>\n",
       "      <td>3</td>\n",
       "      <td>3</td>\n",
       "      <td>3</td>\n",
       "      <td>3</td>\n",
       "      <td>3</td>\n",
       "      <td>3</td>\n",
       "      <td>3</td>\n",
       "      <td>3</td>\n",
       "      <td>3</td>\n",
       "      <td>b</td>\n",
       "    </tr>\n",
       "  </tbody>\n",
       "</table>\n",
       "</div>"
      ],
      "text/plain": [
       "   1  2  3  4  5  6  7  8  10  11  12  13  14  15  16 ans\n",
       "0  1  1  1  1  1  1  1  1   1   1   1   1   1   1   1   a\n",
       "1  8  2  2  2  2  2  2  2   2   2   2   2   2   2   2   b\n",
       "2  6  1  1  1  1  1  1  1   1   1   1   1   1   1   1   a\n",
       "3  2  9  9  9  9  9  9  9   9   9   9   9   9   9   9   c\n",
       "4  3  5  5  5  5  5  5  5   5   5   5   5   5   5   5   b\n",
       "5  1  1  1  1  1  1  1  1   1   1   1   1   1   1   1   a\n",
       "6  8  8  8  8  8  8  8  8   8   8   8   8   8   8   8   b\n",
       "7  6  6  6  6  6  6  6  6   6   6   6   6   6   6   6   a\n",
       "8  2  2  2  2  2  2  2  2   2   2   2   2   2   2   2   c\n",
       "9  3  3  3  3  3  3  3  3   3   3   3   3   3   3   3   b"
      ]
     },
     "execution_count": 237,
     "metadata": {},
     "output_type": "execute_result"
    }
   ],
   "source": [
    "datavalidate"
   ]
  },
  {
   "cell_type": "code",
   "execution_count": 238,
   "metadata": {},
   "outputs": [
    {
     "data": {
      "text/plain": [
       "5"
      ]
     },
     "execution_count": 238,
     "metadata": {},
     "output_type": "execute_result"
    }
   ],
   "source": [
    "s = len(datavalidate)//2\n",
    "s"
   ]
  },
  {
   "cell_type": "code",
   "execution_count": 239,
   "metadata": {},
   "outputs": [],
   "source": [
    "cluster1 = datavalidate[0:s]\n",
    "cluster2 = datavalidate[s:len(datavalidate)]"
   ]
  },
  {
   "cell_type": "code",
   "execution_count": 240,
   "metadata": {},
   "outputs": [
    {
     "data": {
      "text/html": [
       "<div>\n",
       "<style scoped>\n",
       "    .dataframe tbody tr th:only-of-type {\n",
       "        vertical-align: middle;\n",
       "    }\n",
       "\n",
       "    .dataframe tbody tr th {\n",
       "        vertical-align: top;\n",
       "    }\n",
       "\n",
       "    .dataframe thead th {\n",
       "        text-align: right;\n",
       "    }\n",
       "</style>\n",
       "<table border=\"1\" class=\"dataframe\">\n",
       "  <thead>\n",
       "    <tr style=\"text-align: right;\">\n",
       "      <th></th>\n",
       "      <th>1</th>\n",
       "      <th>2</th>\n",
       "      <th>3</th>\n",
       "      <th>4</th>\n",
       "      <th>5</th>\n",
       "      <th>6</th>\n",
       "      <th>7</th>\n",
       "      <th>8</th>\n",
       "      <th>10</th>\n",
       "      <th>11</th>\n",
       "      <th>12</th>\n",
       "      <th>13</th>\n",
       "      <th>14</th>\n",
       "      <th>15</th>\n",
       "      <th>16</th>\n",
       "      <th>ans</th>\n",
       "    </tr>\n",
       "  </thead>\n",
       "  <tbody>\n",
       "    <tr>\n",
       "      <th>0</th>\n",
       "      <td>1</td>\n",
       "      <td>1</td>\n",
       "      <td>1</td>\n",
       "      <td>1</td>\n",
       "      <td>1</td>\n",
       "      <td>1</td>\n",
       "      <td>1</td>\n",
       "      <td>1</td>\n",
       "      <td>1</td>\n",
       "      <td>1</td>\n",
       "      <td>1</td>\n",
       "      <td>1</td>\n",
       "      <td>1</td>\n",
       "      <td>1</td>\n",
       "      <td>1</td>\n",
       "      <td>a</td>\n",
       "    </tr>\n",
       "    <tr>\n",
       "      <th>1</th>\n",
       "      <td>8</td>\n",
       "      <td>2</td>\n",
       "      <td>2</td>\n",
       "      <td>2</td>\n",
       "      <td>2</td>\n",
       "      <td>2</td>\n",
       "      <td>2</td>\n",
       "      <td>2</td>\n",
       "      <td>2</td>\n",
       "      <td>2</td>\n",
       "      <td>2</td>\n",
       "      <td>2</td>\n",
       "      <td>2</td>\n",
       "      <td>2</td>\n",
       "      <td>2</td>\n",
       "      <td>b</td>\n",
       "    </tr>\n",
       "    <tr>\n",
       "      <th>2</th>\n",
       "      <td>6</td>\n",
       "      <td>1</td>\n",
       "      <td>1</td>\n",
       "      <td>1</td>\n",
       "      <td>1</td>\n",
       "      <td>1</td>\n",
       "      <td>1</td>\n",
       "      <td>1</td>\n",
       "      <td>1</td>\n",
       "      <td>1</td>\n",
       "      <td>1</td>\n",
       "      <td>1</td>\n",
       "      <td>1</td>\n",
       "      <td>1</td>\n",
       "      <td>1</td>\n",
       "      <td>a</td>\n",
       "    </tr>\n",
       "    <tr>\n",
       "      <th>3</th>\n",
       "      <td>2</td>\n",
       "      <td>9</td>\n",
       "      <td>9</td>\n",
       "      <td>9</td>\n",
       "      <td>9</td>\n",
       "      <td>9</td>\n",
       "      <td>9</td>\n",
       "      <td>9</td>\n",
       "      <td>9</td>\n",
       "      <td>9</td>\n",
       "      <td>9</td>\n",
       "      <td>9</td>\n",
       "      <td>9</td>\n",
       "      <td>9</td>\n",
       "      <td>9</td>\n",
       "      <td>c</td>\n",
       "    </tr>\n",
       "    <tr>\n",
       "      <th>4</th>\n",
       "      <td>3</td>\n",
       "      <td>5</td>\n",
       "      <td>5</td>\n",
       "      <td>5</td>\n",
       "      <td>5</td>\n",
       "      <td>5</td>\n",
       "      <td>5</td>\n",
       "      <td>5</td>\n",
       "      <td>5</td>\n",
       "      <td>5</td>\n",
       "      <td>5</td>\n",
       "      <td>5</td>\n",
       "      <td>5</td>\n",
       "      <td>5</td>\n",
       "      <td>5</td>\n",
       "      <td>b</td>\n",
       "    </tr>\n",
       "  </tbody>\n",
       "</table>\n",
       "</div>"
      ],
      "text/plain": [
       "   1  2  3  4  5  6  7  8  10  11  12  13  14  15  16 ans\n",
       "0  1  1  1  1  1  1  1  1   1   1   1   1   1   1   1   a\n",
       "1  8  2  2  2  2  2  2  2   2   2   2   2   2   2   2   b\n",
       "2  6  1  1  1  1  1  1  1   1   1   1   1   1   1   1   a\n",
       "3  2  9  9  9  9  9  9  9   9   9   9   9   9   9   9   c\n",
       "4  3  5  5  5  5  5  5  5   5   5   5   5   5   5   5   b"
      ]
     },
     "execution_count": 240,
     "metadata": {},
     "output_type": "execute_result"
    }
   ],
   "source": [
    "cluster1"
   ]
  },
  {
   "cell_type": "code",
   "execution_count": 241,
   "metadata": {
    "scrolled": true
   },
   "outputs": [
    {
     "data": {
      "text/html": [
       "<div>\n",
       "<style scoped>\n",
       "    .dataframe tbody tr th:only-of-type {\n",
       "        vertical-align: middle;\n",
       "    }\n",
       "\n",
       "    .dataframe tbody tr th {\n",
       "        vertical-align: top;\n",
       "    }\n",
       "\n",
       "    .dataframe thead th {\n",
       "        text-align: right;\n",
       "    }\n",
       "</style>\n",
       "<table border=\"1\" class=\"dataframe\">\n",
       "  <thead>\n",
       "    <tr style=\"text-align: right;\">\n",
       "      <th></th>\n",
       "      <th>1</th>\n",
       "      <th>2</th>\n",
       "      <th>3</th>\n",
       "      <th>4</th>\n",
       "      <th>5</th>\n",
       "      <th>6</th>\n",
       "      <th>7</th>\n",
       "      <th>8</th>\n",
       "      <th>10</th>\n",
       "      <th>11</th>\n",
       "      <th>12</th>\n",
       "      <th>13</th>\n",
       "      <th>14</th>\n",
       "      <th>15</th>\n",
       "      <th>16</th>\n",
       "      <th>ans</th>\n",
       "    </tr>\n",
       "  </thead>\n",
       "  <tbody>\n",
       "    <tr>\n",
       "      <th>5</th>\n",
       "      <td>1</td>\n",
       "      <td>1</td>\n",
       "      <td>1</td>\n",
       "      <td>1</td>\n",
       "      <td>1</td>\n",
       "      <td>1</td>\n",
       "      <td>1</td>\n",
       "      <td>1</td>\n",
       "      <td>1</td>\n",
       "      <td>1</td>\n",
       "      <td>1</td>\n",
       "      <td>1</td>\n",
       "      <td>1</td>\n",
       "      <td>1</td>\n",
       "      <td>1</td>\n",
       "      <td>a</td>\n",
       "    </tr>\n",
       "    <tr>\n",
       "      <th>6</th>\n",
       "      <td>8</td>\n",
       "      <td>8</td>\n",
       "      <td>8</td>\n",
       "      <td>8</td>\n",
       "      <td>8</td>\n",
       "      <td>8</td>\n",
       "      <td>8</td>\n",
       "      <td>8</td>\n",
       "      <td>8</td>\n",
       "      <td>8</td>\n",
       "      <td>8</td>\n",
       "      <td>8</td>\n",
       "      <td>8</td>\n",
       "      <td>8</td>\n",
       "      <td>8</td>\n",
       "      <td>b</td>\n",
       "    </tr>\n",
       "    <tr>\n",
       "      <th>7</th>\n",
       "      <td>6</td>\n",
       "      <td>6</td>\n",
       "      <td>6</td>\n",
       "      <td>6</td>\n",
       "      <td>6</td>\n",
       "      <td>6</td>\n",
       "      <td>6</td>\n",
       "      <td>6</td>\n",
       "      <td>6</td>\n",
       "      <td>6</td>\n",
       "      <td>6</td>\n",
       "      <td>6</td>\n",
       "      <td>6</td>\n",
       "      <td>6</td>\n",
       "      <td>6</td>\n",
       "      <td>a</td>\n",
       "    </tr>\n",
       "    <tr>\n",
       "      <th>8</th>\n",
       "      <td>2</td>\n",
       "      <td>2</td>\n",
       "      <td>2</td>\n",
       "      <td>2</td>\n",
       "      <td>2</td>\n",
       "      <td>2</td>\n",
       "      <td>2</td>\n",
       "      <td>2</td>\n",
       "      <td>2</td>\n",
       "      <td>2</td>\n",
       "      <td>2</td>\n",
       "      <td>2</td>\n",
       "      <td>2</td>\n",
       "      <td>2</td>\n",
       "      <td>2</td>\n",
       "      <td>c</td>\n",
       "    </tr>\n",
       "    <tr>\n",
       "      <th>9</th>\n",
       "      <td>3</td>\n",
       "      <td>3</td>\n",
       "      <td>3</td>\n",
       "      <td>3</td>\n",
       "      <td>3</td>\n",
       "      <td>3</td>\n",
       "      <td>3</td>\n",
       "      <td>3</td>\n",
       "      <td>3</td>\n",
       "      <td>3</td>\n",
       "      <td>3</td>\n",
       "      <td>3</td>\n",
       "      <td>3</td>\n",
       "      <td>3</td>\n",
       "      <td>3</td>\n",
       "      <td>b</td>\n",
       "    </tr>\n",
       "  </tbody>\n",
       "</table>\n",
       "</div>"
      ],
      "text/plain": [
       "   1  2  3  4  5  6  7  8  10  11  12  13  14  15  16 ans\n",
       "5  1  1  1  1  1  1  1  1   1   1   1   1   1   1   1   a\n",
       "6  8  8  8  8  8  8  8  8   8   8   8   8   8   8   8   b\n",
       "7  6  6  6  6  6  6  6  6   6   6   6   6   6   6   6   a\n",
       "8  2  2  2  2  2  2  2  2   2   2   2   2   2   2   2   c\n",
       "9  3  3  3  3  3  3  3  3   3   3   3   3   3   3   3   b"
      ]
     },
     "execution_count": 241,
     "metadata": {},
     "output_type": "execute_result"
    }
   ],
   "source": [
    "cluster2"
   ]
  },
  {
   "cell_type": "markdown",
   "metadata": {},
   "source": [
    "# converting the pandas dataframe into numpy arrays"
   ]
  },
  {
   "cell_type": "code",
   "execution_count": 242,
   "metadata": {},
   "outputs": [
    {
     "data": {
      "text/plain": [
       "array([[1, 1, 1, 1, 1, 1, 1, 1, 1, 1, 1, 1, 1, 1, 1],\n",
       "       [8, 2, 2, 2, 2, 2, 2, 2, 2, 2, 2, 2, 2, 2, 2],\n",
       "       [6, 1, 1, 1, 1, 1, 1, 1, 1, 1, 1, 1, 1, 1, 1],\n",
       "       [2, 9, 9, 9, 9, 9, 9, 9, 9, 9, 9, 9, 9, 9, 9],\n",
       "       [3, 5, 5, 5, 5, 5, 5, 5, 5, 5, 5, 5, 5, 5, 5]], dtype=int64)"
      ]
     },
     "execution_count": 242,
     "metadata": {},
     "output_type": "execute_result"
    }
   ],
   "source": [
    "cluster1.iloc[:,-1].values\n",
    "cluster1.iloc[:, :-1].values"
   ]
  },
  {
   "cell_type": "code",
   "execution_count": 243,
   "metadata": {},
   "outputs": [
    {
     "data": {
      "text/plain": [
       "array(['a', 'b', 'a', 'c', 'b'], dtype=object)"
      ]
     },
     "execution_count": 243,
     "metadata": {},
     "output_type": "execute_result"
    }
   ],
   "source": [
    "cluster1.iloc[:,-1].values"
   ]
  },
  {
   "cell_type": "markdown",
   "metadata": {},
   "source": [
    "# Checking The Values"
   ]
  },
  {
   "cell_type": "markdown",
   "metadata": {},
   "source": [
    "# For Cluster 1"
   ]
  },
  {
   "cell_type": "code",
   "execution_count": 244,
   "metadata": {},
   "outputs": [],
   "source": [
    "X_train_cluster1, X_test_cluster1, y_train_cluster1, y_test_cluster1 = train_test_split(cluster1.iloc[:, :-1].values, cluster1.iloc[:,-1].values, test_size=0.4)"
   ]
  },
  {
   "cell_type": "code",
   "execution_count": 245,
   "metadata": {
    "scrolled": true
   },
   "outputs": [
    {
     "data": {
      "text/plain": [
       "array([[8, 2, 2, 2, 2, 2, 2, 2, 2, 2, 2, 2, 2, 2, 2],\n",
       "       [3, 5, 5, 5, 5, 5, 5, 5, 5, 5, 5, 5, 5, 5, 5],\n",
       "       [6, 1, 1, 1, 1, 1, 1, 1, 1, 1, 1, 1, 1, 1, 1]], dtype=int64)"
      ]
     },
     "execution_count": 245,
     "metadata": {},
     "output_type": "execute_result"
    }
   ],
   "source": [
    "X_train_cluster1"
   ]
  },
  {
   "cell_type": "code",
   "execution_count": 246,
   "metadata": {
    "scrolled": true
   },
   "outputs": [
    {
     "data": {
      "text/plain": [
       "array(['b', 'b', 'a'], dtype=object)"
      ]
     },
     "execution_count": 246,
     "metadata": {},
     "output_type": "execute_result"
    }
   ],
   "source": [
    "y_train_cluster1"
   ]
  },
  {
   "cell_type": "code",
   "execution_count": 247,
   "metadata": {
    "scrolled": true
   },
   "outputs": [
    {
     "data": {
      "text/plain": [
       "array([[2, 9, 9, 9, 9, 9, 9, 9, 9, 9, 9, 9, 9, 9, 9],\n",
       "       [1, 1, 1, 1, 1, 1, 1, 1, 1, 1, 1, 1, 1, 1, 1]], dtype=int64)"
      ]
     },
     "execution_count": 247,
     "metadata": {},
     "output_type": "execute_result"
    }
   ],
   "source": [
    "X_test_cluster1"
   ]
  },
  {
   "cell_type": "code",
   "execution_count": 248,
   "metadata": {},
   "outputs": [
    {
     "data": {
      "text/plain": [
       "array(['c', 'a'], dtype=object)"
      ]
     },
     "execution_count": 248,
     "metadata": {},
     "output_type": "execute_result"
    }
   ],
   "source": [
    " y_test_cluster1"
   ]
  },
  {
   "cell_type": "code",
   "execution_count": 249,
   "metadata": {},
   "outputs": [],
   "source": [
    "X_train_cluster2, X_test_cluster2, y_train_cluster2, y_test_cluster2 = train_test_split(cluster2.iloc[:, :-1].values, cluster2.iloc[:,-1].values, test_size=0.4)"
   ]
  },
  {
   "cell_type": "markdown",
   "metadata": {},
   "source": [
    "# For Cluster 2"
   ]
  },
  {
   "cell_type": "code",
   "execution_count": 250,
   "metadata": {},
   "outputs": [
    {
     "data": {
      "text/plain": [
       "array([[8, 8, 8, 8, 8, 8, 8, 8, 8, 8, 8, 8, 8, 8, 8],\n",
       "       [6, 6, 6, 6, 6, 6, 6, 6, 6, 6, 6, 6, 6, 6, 6],\n",
       "       [2, 2, 2, 2, 2, 2, 2, 2, 2, 2, 2, 2, 2, 2, 2]], dtype=int64)"
      ]
     },
     "execution_count": 250,
     "metadata": {},
     "output_type": "execute_result"
    }
   ],
   "source": [
    "X_train_cluster2"
   ]
  },
  {
   "cell_type": "code",
   "execution_count": 251,
   "metadata": {},
   "outputs": [
    {
     "data": {
      "text/plain": [
       "array(['b', 'a', 'c'], dtype=object)"
      ]
     },
     "execution_count": 251,
     "metadata": {},
     "output_type": "execute_result"
    }
   ],
   "source": [
    "y_train_cluster2"
   ]
  },
  {
   "cell_type": "code",
   "execution_count": 252,
   "metadata": {},
   "outputs": [
    {
     "data": {
      "text/plain": [
       "array([[3, 3, 3, 3, 3, 3, 3, 3, 3, 3, 3, 3, 3, 3, 3],\n",
       "       [1, 1, 1, 1, 1, 1, 1, 1, 1, 1, 1, 1, 1, 1, 1]], dtype=int64)"
      ]
     },
     "execution_count": 252,
     "metadata": {},
     "output_type": "execute_result"
    }
   ],
   "source": [
    "X_test_cluster2"
   ]
  },
  {
   "cell_type": "code",
   "execution_count": 253,
   "metadata": {},
   "outputs": [
    {
     "data": {
      "text/plain": [
       "array(['b', 'a'], dtype=object)"
      ]
     },
     "execution_count": 253,
     "metadata": {},
     "output_type": "execute_result"
    }
   ],
   "source": [
    "y_test_cluster2"
   ]
  },
  {
   "cell_type": "code",
   "execution_count": 254,
   "metadata": {},
   "outputs": [
    {
     "name": "stdout",
     "output_type": "stream",
     "text": [
      "2     2\n"
     ]
    }
   ],
   "source": [
    "No_of_test_cases_cluster1,No_of_test_cases_cluster2 = X_test_cluster1.shape[0],X_test_cluster2.shape[0]\n",
    "print(No_of_test_cases_cluster1,\"   \",No_of_test_cases_cluster2)"
   ]
  },
  {
   "cell_type": "code",
   "execution_count": 255,
   "metadata": {},
   "outputs": [
    {
     "name": "stdout",
     "output_type": "stream",
     "text": [
      "3     3\n"
     ]
    }
   ],
   "source": [
    "No_of_train_cluster1,No_of_train_cluster2 = X_train_cluster1.shape[0],X_train_cluster2.shape[0]\n",
    "print(No_of_train_cluster1,\"   \",No_of_train_cluster2)"
   ]
  },
  {
   "cell_type": "code",
   "execution_count": 256,
   "metadata": {},
   "outputs": [
    {
     "name": "stdout",
     "output_type": "stream",
     "text": [
      "16      16\n"
     ]
    }
   ],
   "source": [
    "No_of_columms_cluster1,No_of_columms_cluster2  = len(cluster1.columns),len(cluster2.columns)\n",
    "print(No_of_columms_cluster1,\"    \",No_of_columms_cluster2)"
   ]
  },
  {
   "cell_type": "code",
   "execution_count": null,
   "metadata": {},
   "outputs": [],
   "source": []
  },
  {
   "cell_type": "code",
   "execution_count": 257,
   "metadata": {},
   "outputs": [],
   "source": [
    "import math\n",
    "def euclideanDistance(instance1, instance2, length):\n",
    "\tdistance = 0\n",
    "\tdistance = (instance1 - instance2)\n",
    "\treturn abs(distance)"
   ]
  },
  {
   "cell_type": "code",
   "execution_count": 258,
   "metadata": {},
   "outputs": [],
   "source": [
    "distances = []\n",
    "import operator"
   ]
  },
  {
   "cell_type": "code",
   "execution_count": 259,
   "metadata": {},
   "outputs": [],
   "source": [
    "clus1 = {\"x_train\":X_train_cluster1,\"y_train\":y_train_cluster1,\n",
    "         \"x_test\":X_test_cluster1,\"y_test\":y_test_cluster1,\"No_of_test_cases\":No_of_test_cases_cluster1,\n",
    "         \"No_of_columms\":No_of_columms_cluster1,\"No_of_train\":No_of_train_cluster1\n",
    "        }\n",
    "clus2 = {\"x_train\":X_train_cluster2,\"y_train\":y_train_cluster2,\n",
    "         \"x_test\":X_test_cluster2,\"y_test\":y_test_cluster2,\"No_of_test_cases\":No_of_test_cases_cluster2,\n",
    "         \"No_of_columms\":No_of_columms_cluster1,\"No_of_train\":No_of_train_cluster1\n",
    "        }\n",
    "cluster = {0:clus1,1:clus2}\n"
   ]
  },
  {
   "cell_type": "code",
   "execution_count": 260,
   "metadata": {},
   "outputs": [
    {
     "data": {
      "text/plain": [
       "{'x_train': array([[8, 2, 2, 2, 2, 2, 2, 2, 2, 2, 2, 2, 2, 2, 2],\n",
       "        [3, 5, 5, 5, 5, 5, 5, 5, 5, 5, 5, 5, 5, 5, 5],\n",
       "        [6, 1, 1, 1, 1, 1, 1, 1, 1, 1, 1, 1, 1, 1, 1]], dtype=int64),\n",
       " 'y_train': array(['b', 'b', 'a'], dtype=object),\n",
       " 'x_test': array([[2, 9, 9, 9, 9, 9, 9, 9, 9, 9, 9, 9, 9, 9, 9],\n",
       "        [1, 1, 1, 1, 1, 1, 1, 1, 1, 1, 1, 1, 1, 1, 1]], dtype=int64),\n",
       " 'y_test': array(['c', 'a'], dtype=object),\n",
       " 'No_of_test_cases': 2,\n",
       " 'No_of_columms': 16,\n",
       " 'No_of_train': 3}"
      ]
     },
     "execution_count": 260,
     "metadata": {},
     "output_type": "execute_result"
    }
   ],
   "source": [
    "cluster[0]"
   ]
  },
  {
   "cell_type": "code",
   "execution_count": 261,
   "metadata": {},
   "outputs": [
    {
     "data": {
      "text/plain": [
       "{'x_train': array([[8, 8, 8, 8, 8, 8, 8, 8, 8, 8, 8, 8, 8, 8, 8],\n",
       "        [6, 6, 6, 6, 6, 6, 6, 6, 6, 6, 6, 6, 6, 6, 6],\n",
       "        [2, 2, 2, 2, 2, 2, 2, 2, 2, 2, 2, 2, 2, 2, 2]], dtype=int64),\n",
       " 'y_train': array(['b', 'a', 'c'], dtype=object),\n",
       " 'x_test': array([[3, 3, 3, 3, 3, 3, 3, 3, 3, 3, 3, 3, 3, 3, 3],\n",
       "        [1, 1, 1, 1, 1, 1, 1, 1, 1, 1, 1, 1, 1, 1, 1]], dtype=int64),\n",
       " 'y_test': array(['b', 'a'], dtype=object),\n",
       " 'No_of_test_cases': 2,\n",
       " 'No_of_columms': 16,\n",
       " 'No_of_train': 3}"
      ]
     },
     "execution_count": 261,
     "metadata": {},
     "output_type": "execute_result"
    }
   ],
   "source": [
    "cluster[1]"
   ]
  },
  {
   "cell_type": "code",
   "execution_count": 262,
   "metadata": {},
   "outputs": [],
   "source": [
    "# k = 3\n",
    "# NeighboursSetDict1 = []\n",
    "# # NeighboursSetDict2 = []\n",
    "\n",
    "# for y in range(No_of_test_cases_cluster1):\n",
    "#     NeighboursSet = []\n",
    "#     for x in range(No_of_columms_cluster1-1):\n",
    "        \n",
    "#         print(\"x is\",x)\n",
    "#         distances = []\n",
    "#         for i in range(No_of_train_cluster1):\n",
    "#             print(\"x train is \",X_train_cluster1[i][x])\n",
    "#             dist = euclideanDistance(X_train_cluster1[i][x],X_test_cluster1[y][x],1)\n",
    "#             distances.append((X_train_cluster1[i][x], dist))\n",
    "#             print(\"each distance \",distances)\n",
    "#         distances.sort(key=operator.itemgetter(1))\n",
    "#         print(distances ,\" heer\")\n",
    "#         neighbors = []\n",
    "#         for x in range(k):\n",
    "#             neighbors.append(distances[x][0])\n",
    "#             print(neighbors)\n",
    "#         NeighboursSet.append(neighbors)\n",
    "        \n",
    "#     NeighboursSetDict1.append(NeighboursSet)\n",
    "# NeighboursSetDict1"
   ]
  },
  {
   "cell_type": "code",
   "execution_count": 263,
   "metadata": {},
   "outputs": [
    {
     "data": {
      "text/plain": [
       "2"
      ]
     },
     "execution_count": 263,
     "metadata": {},
     "output_type": "execute_result"
    }
   ],
   "source": [
    "cluster[1][\"x_test\"].shape[0]"
   ]
  },
  {
   "cell_type": "code",
   "execution_count": 264,
   "metadata": {},
   "outputs": [
    {
     "name": "stdout",
     "output_type": "stream",
     "text": [
      "Test Cases will be ---> [2 9 9 9 9 9 9 9 9 9 9 9 9 9 9]\n",
      "  each distance for test data 2 and train data 8 is [(8, 6)]\n",
      "  each distance for test data 2 and train data 3 is [(8, 6), (3, 1)]\n",
      "  each distance for test data 2 and train data 6 is [(8, 6), (3, 1), (6, 4)]\n",
      "          sorted [(3, 1), (6, 4), (8, 6)]\n",
      "      neighbours are [3, 6]\n",
      "  each distance for test data 9 and train data 2 is [(2, 7)]\n",
      "  each distance for test data 9 and train data 5 is [(2, 7), (5, 4)]\n",
      "  each distance for test data 9 and train data 1 is [(2, 7), (5, 4), (1, 8)]\n",
      "          sorted [(5, 4), (2, 7), (1, 8)]\n",
      "      neighbours are [5, 2]\n",
      "  each distance for test data 9 and train data 2 is [(2, 7)]\n",
      "  each distance for test data 9 and train data 5 is [(2, 7), (5, 4)]\n",
      "  each distance for test data 9 and train data 1 is [(2, 7), (5, 4), (1, 8)]\n",
      "          sorted [(5, 4), (2, 7), (1, 8)]\n",
      "      neighbours are [5, 2]\n",
      "  each distance for test data 9 and train data 2 is [(2, 7)]\n",
      "  each distance for test data 9 and train data 5 is [(2, 7), (5, 4)]\n",
      "  each distance for test data 9 and train data 1 is [(2, 7), (5, 4), (1, 8)]\n",
      "          sorted [(5, 4), (2, 7), (1, 8)]\n",
      "      neighbours are [5, 2]\n",
      "  each distance for test data 9 and train data 2 is [(2, 7)]\n",
      "  each distance for test data 9 and train data 5 is [(2, 7), (5, 4)]\n",
      "  each distance for test data 9 and train data 1 is [(2, 7), (5, 4), (1, 8)]\n",
      "          sorted [(5, 4), (2, 7), (1, 8)]\n",
      "      neighbours are [5, 2]\n",
      "  each distance for test data 9 and train data 2 is [(2, 7)]\n",
      "  each distance for test data 9 and train data 5 is [(2, 7), (5, 4)]\n",
      "  each distance for test data 9 and train data 1 is [(2, 7), (5, 4), (1, 8)]\n",
      "          sorted [(5, 4), (2, 7), (1, 8)]\n",
      "      neighbours are [5, 2]\n",
      "  each distance for test data 9 and train data 2 is [(2, 7)]\n",
      "  each distance for test data 9 and train data 5 is [(2, 7), (5, 4)]\n",
      "  each distance for test data 9 and train data 1 is [(2, 7), (5, 4), (1, 8)]\n",
      "          sorted [(5, 4), (2, 7), (1, 8)]\n",
      "      neighbours are [5, 2]\n",
      "  each distance for test data 9 and train data 2 is [(2, 7)]\n",
      "  each distance for test data 9 and train data 5 is [(2, 7), (5, 4)]\n",
      "  each distance for test data 9 and train data 1 is [(2, 7), (5, 4), (1, 8)]\n",
      "          sorted [(5, 4), (2, 7), (1, 8)]\n",
      "      neighbours are [5, 2]\n",
      "  each distance for test data 9 and train data 2 is [(2, 7)]\n",
      "  each distance for test data 9 and train data 5 is [(2, 7), (5, 4)]\n",
      "  each distance for test data 9 and train data 1 is [(2, 7), (5, 4), (1, 8)]\n",
      "          sorted [(5, 4), (2, 7), (1, 8)]\n",
      "      neighbours are [5, 2]\n",
      "  each distance for test data 9 and train data 2 is [(2, 7)]\n",
      "  each distance for test data 9 and train data 5 is [(2, 7), (5, 4)]\n",
      "  each distance for test data 9 and train data 1 is [(2, 7), (5, 4), (1, 8)]\n",
      "          sorted [(5, 4), (2, 7), (1, 8)]\n",
      "      neighbours are [5, 2]\n",
      "  each distance for test data 9 and train data 2 is [(2, 7)]\n",
      "  each distance for test data 9 and train data 5 is [(2, 7), (5, 4)]\n",
      "  each distance for test data 9 and train data 1 is [(2, 7), (5, 4), (1, 8)]\n",
      "          sorted [(5, 4), (2, 7), (1, 8)]\n",
      "      neighbours are [5, 2]\n",
      "  each distance for test data 9 and train data 2 is [(2, 7)]\n",
      "  each distance for test data 9 and train data 5 is [(2, 7), (5, 4)]\n",
      "  each distance for test data 9 and train data 1 is [(2, 7), (5, 4), (1, 8)]\n",
      "          sorted [(5, 4), (2, 7), (1, 8)]\n",
      "      neighbours are [5, 2]\n",
      "  each distance for test data 9 and train data 2 is [(2, 7)]\n",
      "  each distance for test data 9 and train data 5 is [(2, 7), (5, 4)]\n",
      "  each distance for test data 9 and train data 1 is [(2, 7), (5, 4), (1, 8)]\n",
      "          sorted [(5, 4), (2, 7), (1, 8)]\n",
      "      neighbours are [5, 2]\n",
      "  each distance for test data 9 and train data 2 is [(2, 7)]\n",
      "  each distance for test data 9 and train data 5 is [(2, 7), (5, 4)]\n",
      "  each distance for test data 9 and train data 1 is [(2, 7), (5, 4), (1, 8)]\n",
      "          sorted [(5, 4), (2, 7), (1, 8)]\n",
      "      neighbours are [5, 2]\n",
      "  each distance for test data 9 and train data 2 is [(2, 7)]\n",
      "  each distance for test data 9 and train data 5 is [(2, 7), (5, 4)]\n",
      "  each distance for test data 9 and train data 1 is [(2, 7), (5, 4), (1, 8)]\n",
      "          sorted [(5, 4), (2, 7), (1, 8)]\n",
      "      neighbours are [5, 2]\n",
      "      NeighboursSet for Each test case [[3, 6], [5, 2], [5, 2], [5, 2], [5, 2], [5, 2], [5, 2], [5, 2], [5, 2], [5, 2], [5, 2], [5, 2], [5, 2], [5, 2], [5, 2]]\n",
      "Test Cases will be ---> [1 1 1 1 1 1 1 1 1 1 1 1 1 1 1]\n",
      "  each distance for test data 1 and train data 8 is [(8, 7)]\n",
      "  each distance for test data 1 and train data 3 is [(8, 7), (3, 2)]\n",
      "  each distance for test data 1 and train data 6 is [(8, 7), (3, 2), (6, 5)]\n",
      "          sorted [(3, 2), (6, 5), (8, 7)]\n",
      "      neighbours are [3, 6]\n",
      "  each distance for test data 1 and train data 2 is [(2, 1)]\n",
      "  each distance for test data 1 and train data 5 is [(2, 1), (5, 4)]\n",
      "  each distance for test data 1 and train data 1 is [(2, 1), (5, 4), (1, 0)]\n",
      "          sorted [(1, 0), (2, 1), (5, 4)]\n",
      "      neighbours are [1, 2]\n",
      "  each distance for test data 1 and train data 2 is [(2, 1)]\n",
      "  each distance for test data 1 and train data 5 is [(2, 1), (5, 4)]\n",
      "  each distance for test data 1 and train data 1 is [(2, 1), (5, 4), (1, 0)]\n",
      "          sorted [(1, 0), (2, 1), (5, 4)]\n",
      "      neighbours are [1, 2]\n",
      "  each distance for test data 1 and train data 2 is [(2, 1)]\n",
      "  each distance for test data 1 and train data 5 is [(2, 1), (5, 4)]\n",
      "  each distance for test data 1 and train data 1 is [(2, 1), (5, 4), (1, 0)]\n",
      "          sorted [(1, 0), (2, 1), (5, 4)]\n",
      "      neighbours are [1, 2]\n",
      "  each distance for test data 1 and train data 2 is [(2, 1)]\n",
      "  each distance for test data 1 and train data 5 is [(2, 1), (5, 4)]\n",
      "  each distance for test data 1 and train data 1 is [(2, 1), (5, 4), (1, 0)]\n",
      "          sorted [(1, 0), (2, 1), (5, 4)]\n",
      "      neighbours are [1, 2]\n",
      "  each distance for test data 1 and train data 2 is [(2, 1)]\n",
      "  each distance for test data 1 and train data 5 is [(2, 1), (5, 4)]\n",
      "  each distance for test data 1 and train data 1 is [(2, 1), (5, 4), (1, 0)]\n",
      "          sorted [(1, 0), (2, 1), (5, 4)]\n",
      "      neighbours are [1, 2]\n",
      "  each distance for test data 1 and train data 2 is [(2, 1)]\n",
      "  each distance for test data 1 and train data 5 is [(2, 1), (5, 4)]\n",
      "  each distance for test data 1 and train data 1 is [(2, 1), (5, 4), (1, 0)]\n",
      "          sorted [(1, 0), (2, 1), (5, 4)]\n",
      "      neighbours are [1, 2]\n",
      "  each distance for test data 1 and train data 2 is [(2, 1)]\n",
      "  each distance for test data 1 and train data 5 is [(2, 1), (5, 4)]\n",
      "  each distance for test data 1 and train data 1 is [(2, 1), (5, 4), (1, 0)]\n",
      "          sorted [(1, 0), (2, 1), (5, 4)]\n",
      "      neighbours are [1, 2]\n",
      "  each distance for test data 1 and train data 2 is [(2, 1)]\n",
      "  each distance for test data 1 and train data 5 is [(2, 1), (5, 4)]\n",
      "  each distance for test data 1 and train data 1 is [(2, 1), (5, 4), (1, 0)]\n",
      "          sorted [(1, 0), (2, 1), (5, 4)]\n",
      "      neighbours are [1, 2]\n",
      "  each distance for test data 1 and train data 2 is [(2, 1)]\n",
      "  each distance for test data 1 and train data 5 is [(2, 1), (5, 4)]\n",
      "  each distance for test data 1 and train data 1 is [(2, 1), (5, 4), (1, 0)]\n",
      "          sorted [(1, 0), (2, 1), (5, 4)]\n",
      "      neighbours are [1, 2]\n",
      "  each distance for test data 1 and train data 2 is [(2, 1)]\n",
      "  each distance for test data 1 and train data 5 is [(2, 1), (5, 4)]\n",
      "  each distance for test data 1 and train data 1 is [(2, 1), (5, 4), (1, 0)]\n",
      "          sorted [(1, 0), (2, 1), (5, 4)]\n",
      "      neighbours are [1, 2]\n",
      "  each distance for test data 1 and train data 2 is [(2, 1)]\n",
      "  each distance for test data 1 and train data 5 is [(2, 1), (5, 4)]\n",
      "  each distance for test data 1 and train data 1 is [(2, 1), (5, 4), (1, 0)]\n",
      "          sorted [(1, 0), (2, 1), (5, 4)]\n",
      "      neighbours are [1, 2]\n",
      "  each distance for test data 1 and train data 2 is [(2, 1)]\n",
      "  each distance for test data 1 and train data 5 is [(2, 1), (5, 4)]\n",
      "  each distance for test data 1 and train data 1 is [(2, 1), (5, 4), (1, 0)]\n",
      "          sorted [(1, 0), (2, 1), (5, 4)]\n",
      "      neighbours are [1, 2]\n",
      "  each distance for test data 1 and train data 2 is [(2, 1)]\n",
      "  each distance for test data 1 and train data 5 is [(2, 1), (5, 4)]\n",
      "  each distance for test data 1 and train data 1 is [(2, 1), (5, 4), (1, 0)]\n",
      "          sorted [(1, 0), (2, 1), (5, 4)]\n",
      "      neighbours are [1, 2]\n",
      "  each distance for test data 1 and train data 2 is [(2, 1)]\n",
      "  each distance for test data 1 and train data 5 is [(2, 1), (5, 4)]\n",
      "  each distance for test data 1 and train data 1 is [(2, 1), (5, 4), (1, 0)]\n",
      "          sorted [(1, 0), (2, 1), (5, 4)]\n",
      "      neighbours are [1, 2]\n",
      "      NeighboursSet for Each test case [[3, 6], [1, 2], [1, 2], [1, 2], [1, 2], [1, 2], [1, 2], [1, 2], [1, 2], [1, 2], [1, 2], [1, 2], [1, 2], [1, 2], [1, 2]]\n",
      "Test Cases will be ---> [3 3 3 3 3 3 3 3 3 3 3 3 3 3 3]\n",
      "  each distance for test data 3 and train data 8 is [(8, 5)]\n",
      "  each distance for test data 3 and train data 6 is [(8, 5), (6, 3)]\n",
      "  each distance for test data 3 and train data 2 is [(8, 5), (6, 3), (2, 1)]\n",
      "          sorted [(2, 1), (6, 3), (8, 5)]\n",
      "      neighbours are [2, 6]\n",
      "  each distance for test data 3 and train data 8 is [(8, 5)]\n",
      "  each distance for test data 3 and train data 6 is [(8, 5), (6, 3)]\n",
      "  each distance for test data 3 and train data 2 is [(8, 5), (6, 3), (2, 1)]\n",
      "          sorted [(2, 1), (6, 3), (8, 5)]\n",
      "      neighbours are [2, 6]\n",
      "  each distance for test data 3 and train data 8 is [(8, 5)]\n",
      "  each distance for test data 3 and train data 6 is [(8, 5), (6, 3)]\n",
      "  each distance for test data 3 and train data 2 is [(8, 5), (6, 3), (2, 1)]\n",
      "          sorted [(2, 1), (6, 3), (8, 5)]\n",
      "      neighbours are [2, 6]\n",
      "  each distance for test data 3 and train data 8 is [(8, 5)]\n",
      "  each distance for test data 3 and train data 6 is [(8, 5), (6, 3)]\n",
      "  each distance for test data 3 and train data 2 is [(8, 5), (6, 3), (2, 1)]\n",
      "          sorted [(2, 1), (6, 3), (8, 5)]\n",
      "      neighbours are [2, 6]\n",
      "  each distance for test data 3 and train data 8 is [(8, 5)]\n",
      "  each distance for test data 3 and train data 6 is [(8, 5), (6, 3)]\n",
      "  each distance for test data 3 and train data 2 is [(8, 5), (6, 3), (2, 1)]\n",
      "          sorted [(2, 1), (6, 3), (8, 5)]\n",
      "      neighbours are [2, 6]\n",
      "  each distance for test data 3 and train data 8 is [(8, 5)]\n",
      "  each distance for test data 3 and train data 6 is [(8, 5), (6, 3)]\n",
      "  each distance for test data 3 and train data 2 is [(8, 5), (6, 3), (2, 1)]\n",
      "          sorted [(2, 1), (6, 3), (8, 5)]\n",
      "      neighbours are [2, 6]\n",
      "  each distance for test data 3 and train data 8 is [(8, 5)]\n",
      "  each distance for test data 3 and train data 6 is [(8, 5), (6, 3)]\n",
      "  each distance for test data 3 and train data 2 is [(8, 5), (6, 3), (2, 1)]\n",
      "          sorted [(2, 1), (6, 3), (8, 5)]\n",
      "      neighbours are [2, 6]\n",
      "  each distance for test data 3 and train data 8 is [(8, 5)]\n",
      "  each distance for test data 3 and train data 6 is [(8, 5), (6, 3)]\n",
      "  each distance for test data 3 and train data 2 is [(8, 5), (6, 3), (2, 1)]\n",
      "          sorted [(2, 1), (6, 3), (8, 5)]\n",
      "      neighbours are [2, 6]\n",
      "  each distance for test data 3 and train data 8 is [(8, 5)]\n",
      "  each distance for test data 3 and train data 6 is [(8, 5), (6, 3)]\n",
      "  each distance for test data 3 and train data 2 is [(8, 5), (6, 3), (2, 1)]\n",
      "          sorted [(2, 1), (6, 3), (8, 5)]\n",
      "      neighbours are [2, 6]\n",
      "  each distance for test data 3 and train data 8 is [(8, 5)]\n",
      "  each distance for test data 3 and train data 6 is [(8, 5), (6, 3)]\n",
      "  each distance for test data 3 and train data 2 is [(8, 5), (6, 3), (2, 1)]\n",
      "          sorted [(2, 1), (6, 3), (8, 5)]\n",
      "      neighbours are [2, 6]\n",
      "  each distance for test data 3 and train data 8 is [(8, 5)]\n",
      "  each distance for test data 3 and train data 6 is [(8, 5), (6, 3)]\n",
      "  each distance for test data 3 and train data 2 is [(8, 5), (6, 3), (2, 1)]\n",
      "          sorted [(2, 1), (6, 3), (8, 5)]\n",
      "      neighbours are [2, 6]\n",
      "  each distance for test data 3 and train data 8 is [(8, 5)]\n",
      "  each distance for test data 3 and train data 6 is [(8, 5), (6, 3)]\n",
      "  each distance for test data 3 and train data 2 is [(8, 5), (6, 3), (2, 1)]\n",
      "          sorted [(2, 1), (6, 3), (8, 5)]\n",
      "      neighbours are [2, 6]\n",
      "  each distance for test data 3 and train data 8 is [(8, 5)]\n",
      "  each distance for test data 3 and train data 6 is [(8, 5), (6, 3)]\n",
      "  each distance for test data 3 and train data 2 is [(8, 5), (6, 3), (2, 1)]\n",
      "          sorted [(2, 1), (6, 3), (8, 5)]\n",
      "      neighbours are [2, 6]\n",
      "  each distance for test data 3 and train data 8 is [(8, 5)]\n",
      "  each distance for test data 3 and train data 6 is [(8, 5), (6, 3)]\n",
      "  each distance for test data 3 and train data 2 is [(8, 5), (6, 3), (2, 1)]\n",
      "          sorted [(2, 1), (6, 3), (8, 5)]\n",
      "      neighbours are [2, 6]\n",
      "  each distance for test data 3 and train data 8 is [(8, 5)]\n",
      "  each distance for test data 3 and train data 6 is [(8, 5), (6, 3)]\n",
      "  each distance for test data 3 and train data 2 is [(8, 5), (6, 3), (2, 1)]\n",
      "          sorted [(2, 1), (6, 3), (8, 5)]\n",
      "      neighbours are [2, 6]\n",
      "      NeighboursSet for Each test case [[2, 6], [2, 6], [2, 6], [2, 6], [2, 6], [2, 6], [2, 6], [2, 6], [2, 6], [2, 6], [2, 6], [2, 6], [2, 6], [2, 6], [2, 6]]\n",
      "Test Cases will be ---> [1 1 1 1 1 1 1 1 1 1 1 1 1 1 1]\n",
      "  each distance for test data 1 and train data 8 is [(8, 7)]\n",
      "  each distance for test data 1 and train data 6 is [(8, 7), (6, 5)]\n",
      "  each distance for test data 1 and train data 2 is [(8, 7), (6, 5), (2, 1)]\n",
      "          sorted [(2, 1), (6, 5), (8, 7)]\n",
      "      neighbours are [2, 6]\n",
      "  each distance for test data 1 and train data 8 is [(8, 7)]\n",
      "  each distance for test data 1 and train data 6 is [(8, 7), (6, 5)]\n",
      "  each distance for test data 1 and train data 2 is [(8, 7), (6, 5), (2, 1)]\n",
      "          sorted [(2, 1), (6, 5), (8, 7)]\n",
      "      neighbours are [2, 6]\n",
      "  each distance for test data 1 and train data 8 is [(8, 7)]\n",
      "  each distance for test data 1 and train data 6 is [(8, 7), (6, 5)]\n",
      "  each distance for test data 1 and train data 2 is [(8, 7), (6, 5), (2, 1)]\n",
      "          sorted [(2, 1), (6, 5), (8, 7)]\n",
      "      neighbours are [2, 6]\n",
      "  each distance for test data 1 and train data 8 is [(8, 7)]\n",
      "  each distance for test data 1 and train data 6 is [(8, 7), (6, 5)]\n",
      "  each distance for test data 1 and train data 2 is [(8, 7), (6, 5), (2, 1)]\n",
      "          sorted [(2, 1), (6, 5), (8, 7)]\n",
      "      neighbours are [2, 6]\n",
      "  each distance for test data 1 and train data 8 is [(8, 7)]\n",
      "  each distance for test data 1 and train data 6 is [(8, 7), (6, 5)]\n",
      "  each distance for test data 1 and train data 2 is [(8, 7), (6, 5), (2, 1)]\n",
      "          sorted [(2, 1), (6, 5), (8, 7)]\n",
      "      neighbours are [2, 6]\n",
      "  each distance for test data 1 and train data 8 is [(8, 7)]\n",
      "  each distance for test data 1 and train data 6 is [(8, 7), (6, 5)]\n",
      "  each distance for test data 1 and train data 2 is [(8, 7), (6, 5), (2, 1)]\n",
      "          sorted [(2, 1), (6, 5), (8, 7)]\n",
      "      neighbours are [2, 6]\n",
      "  each distance for test data 1 and train data 8 is [(8, 7)]\n",
      "  each distance for test data 1 and train data 6 is [(8, 7), (6, 5)]\n",
      "  each distance for test data 1 and train data 2 is [(8, 7), (6, 5), (2, 1)]\n",
      "          sorted [(2, 1), (6, 5), (8, 7)]\n",
      "      neighbours are [2, 6]\n",
      "  each distance for test data 1 and train data 8 is [(8, 7)]\n",
      "  each distance for test data 1 and train data 6 is [(8, 7), (6, 5)]\n",
      "  each distance for test data 1 and train data 2 is [(8, 7), (6, 5), (2, 1)]\n",
      "          sorted [(2, 1), (6, 5), (8, 7)]\n",
      "      neighbours are [2, 6]\n",
      "  each distance for test data 1 and train data 8 is [(8, 7)]\n",
      "  each distance for test data 1 and train data 6 is [(8, 7), (6, 5)]\n",
      "  each distance for test data 1 and train data 2 is [(8, 7), (6, 5), (2, 1)]\n",
      "          sorted [(2, 1), (6, 5), (8, 7)]\n",
      "      neighbours are [2, 6]\n",
      "  each distance for test data 1 and train data 8 is [(8, 7)]\n",
      "  each distance for test data 1 and train data 6 is [(8, 7), (6, 5)]\n",
      "  each distance for test data 1 and train data 2 is [(8, 7), (6, 5), (2, 1)]\n",
      "          sorted [(2, 1), (6, 5), (8, 7)]\n",
      "      neighbours are [2, 6]\n",
      "  each distance for test data 1 and train data 8 is [(8, 7)]\n",
      "  each distance for test data 1 and train data 6 is [(8, 7), (6, 5)]\n",
      "  each distance for test data 1 and train data 2 is [(8, 7), (6, 5), (2, 1)]\n",
      "          sorted [(2, 1), (6, 5), (8, 7)]\n",
      "      neighbours are [2, 6]\n",
      "  each distance for test data 1 and train data 8 is [(8, 7)]\n",
      "  each distance for test data 1 and train data 6 is [(8, 7), (6, 5)]\n",
      "  each distance for test data 1 and train data 2 is [(8, 7), (6, 5), (2, 1)]\n",
      "          sorted [(2, 1), (6, 5), (8, 7)]\n",
      "      neighbours are [2, 6]\n",
      "  each distance for test data 1 and train data 8 is [(8, 7)]\n",
      "  each distance for test data 1 and train data 6 is [(8, 7), (6, 5)]\n",
      "  each distance for test data 1 and train data 2 is [(8, 7), (6, 5), (2, 1)]\n",
      "          sorted [(2, 1), (6, 5), (8, 7)]\n",
      "      neighbours are [2, 6]\n",
      "  each distance for test data 1 and train data 8 is [(8, 7)]\n",
      "  each distance for test data 1 and train data 6 is [(8, 7), (6, 5)]\n",
      "  each distance for test data 1 and train data 2 is [(8, 7), (6, 5), (2, 1)]\n",
      "          sorted [(2, 1), (6, 5), (8, 7)]\n",
      "      neighbours are [2, 6]\n",
      "  each distance for test data 1 and train data 8 is [(8, 7)]\n",
      "  each distance for test data 1 and train data 6 is [(8, 7), (6, 5)]\n",
      "  each distance for test data 1 and train data 2 is [(8, 7), (6, 5), (2, 1)]\n",
      "          sorted [(2, 1), (6, 5), (8, 7)]\n",
      "      neighbours are [2, 6]\n",
      "      NeighboursSet for Each test case [[2, 6], [2, 6], [2, 6], [2, 6], [2, 6], [2, 6], [2, 6], [2, 6], [2, 6], [2, 6], [2, 6], [2, 6], [2, 6], [2, 6], [2, 6]]\n"
     ]
    }
   ],
   "source": [
    "k = 2\n",
    "NeighboursSetDict1 = []\n",
    "NeighboursSetDict2 = []\n",
    "NeighboursSetDict = {0:NeighboursSetDict1,1:NeighboursSetDict2}\n",
    "for _ in range(2):\n",
    "    for y in range(cluster[_][\"No_of_test_cases\"]):\n",
    "        print(\"Test Cases will be --->\",cluster[_][\"x_test\"][y])\n",
    "        NeighboursSet = []\n",
    "        for x in range(cluster[_][\"No_of_columms\"]-1):\n",
    "\n",
    "#             print(\"x is\",x)\n",
    "            distances = []\n",
    "            for i in range(cluster[_][\"No_of_train\"]):\n",
    "#                 print(\"x train is \",cluster[_][\"x_train\"][i][x])\n",
    "                dist = euclideanDistance(cluster[_][\"x_train\"][i][x],cluster[_][\"x_test\"][y][x],1)\n",
    "                distances.append((cluster[_][\"x_train\"][i][x], dist))\n",
    "                print(\"  each distance for test data {0} and train data {1} is {2}\".format(cluster[_][\"x_test\"][y][x],cluster[_][\"x_train\"][i][x],distances))\n",
    "            distances.sort(key=operator.itemgetter(1))\n",
    "            print(\"          sorted\",distances)\n",
    "            neighbors = []\n",
    "            for x in range(k):\n",
    "                neighbors.append(distances[x][0])\n",
    "            print(\"      neighbours are\",neighbors)\n",
    "            NeighboursSet.append(neighbors)\n",
    "        print(\"      NeighboursSet for Each test case\",NeighboursSet)\n",
    "        NeighboursSetDict[_].append(NeighboursSet)\n",
    "    NeighboursSetDict[_]"
   ]
  },
  {
   "cell_type": "markdown",
   "metadata": {},
   "source": [
    "# Here, k = 2,so every sublist in the list has two elements \n",
    "\n",
    "The values we will find by using function common will give the feature value of any row in the x_train,not the index to the row which knn find outs to be nearest .\n",
    "So ,if we found out the corresponding dependent variable of the row in which this feature value lies,we will get the result ."
   ]
  },
  {
   "cell_type": "code",
   "execution_count": 265,
   "metadata": {},
   "outputs": [
    {
     "data": {
      "text/plain": [
       "[[[3, 6],\n",
       "  [5, 2],\n",
       "  [5, 2],\n",
       "  [5, 2],\n",
       "  [5, 2],\n",
       "  [5, 2],\n",
       "  [5, 2],\n",
       "  [5, 2],\n",
       "  [5, 2],\n",
       "  [5, 2],\n",
       "  [5, 2],\n",
       "  [5, 2],\n",
       "  [5, 2],\n",
       "  [5, 2],\n",
       "  [5, 2]],\n",
       " [[3, 6],\n",
       "  [1, 2],\n",
       "  [1, 2],\n",
       "  [1, 2],\n",
       "  [1, 2],\n",
       "  [1, 2],\n",
       "  [1, 2],\n",
       "  [1, 2],\n",
       "  [1, 2],\n",
       "  [1, 2],\n",
       "  [1, 2],\n",
       "  [1, 2],\n",
       "  [1, 2],\n",
       "  [1, 2],\n",
       "  [1, 2]]]"
      ]
     },
     "execution_count": 265,
     "metadata": {},
     "output_type": "execute_result"
    }
   ],
   "source": [
    "NeighboursSetDict[0]"
   ]
  },
  {
   "cell_type": "code",
   "execution_count": 266,
   "metadata": {},
   "outputs": [
    {
     "data": {
      "text/plain": [
       "[[3, 6],\n",
       " [5, 2],\n",
       " [5, 2],\n",
       " [5, 2],\n",
       " [5, 2],\n",
       " [5, 2],\n",
       " [5, 2],\n",
       " [5, 2],\n",
       " [5, 2],\n",
       " [5, 2],\n",
       " [5, 2],\n",
       " [5, 2],\n",
       " [5, 2],\n",
       " [5, 2],\n",
       " [5, 2]]"
      ]
     },
     "execution_count": 266,
     "metadata": {},
     "output_type": "execute_result"
    }
   ],
   "source": [
    "NeighboursSetDict[0][0]    #first index refer to cluster and then next index to test case"
   ]
  },
  {
   "cell_type": "code",
   "execution_count": 267,
   "metadata": {},
   "outputs": [
    {
     "data": {
      "text/plain": [
       "[[[2, 6],\n",
       "  [2, 6],\n",
       "  [2, 6],\n",
       "  [2, 6],\n",
       "  [2, 6],\n",
       "  [2, 6],\n",
       "  [2, 6],\n",
       "  [2, 6],\n",
       "  [2, 6],\n",
       "  [2, 6],\n",
       "  [2, 6],\n",
       "  [2, 6],\n",
       "  [2, 6],\n",
       "  [2, 6],\n",
       "  [2, 6]],\n",
       " [[2, 6],\n",
       "  [2, 6],\n",
       "  [2, 6],\n",
       "  [2, 6],\n",
       "  [2, 6],\n",
       "  [2, 6],\n",
       "  [2, 6],\n",
       "  [2, 6],\n",
       "  [2, 6],\n",
       "  [2, 6],\n",
       "  [2, 6],\n",
       "  [2, 6],\n",
       "  [2, 6],\n",
       "  [2, 6],\n",
       "  [2, 6]]]"
      ]
     },
     "execution_count": 267,
     "metadata": {},
     "output_type": "execute_result"
    }
   ],
   "source": [
    "NeighboursSetDict[1]"
   ]
  },
  {
   "cell_type": "code",
   "execution_count": 268,
   "metadata": {},
   "outputs": [],
   "source": [
    "# Function to find common elements in n arrays \n",
    "def commonElements(NeighboursSet): \n",
    "      \n",
    "    # initialize result with first array as a set \n",
    "    result = set(NeighboursSet[0]) \n",
    "  \n",
    "    # now iterate through list of arrays starting from \n",
    "    # second array and take intersection_update() of  \n",
    "    # each array with result. Every operation will  \n",
    "    # update value of result with common values in \n",
    "    # result set and intersected set \n",
    "    for currSet in NeighboursSet[1:]: \n",
    "        result.intersection_update(currSet) \n",
    "  \n",
    "    return list(result)"
   ]
  },
  {
   "cell_type": "code",
   "execution_count": 278,
   "metadata": {},
   "outputs": [
    {
     "data": {
      "text/plain": [
       "[]"
      ]
     },
     "execution_count": 278,
     "metadata": {},
     "output_type": "execute_result"
    }
   ],
   "source": [
    "common_for_cluster1_for_1st_test = commonElements(NeighboursSetDict[0][0])\n",
    "common_for_cluster1_for_1st_test"
   ]
  },
  {
   "cell_type": "code",
   "execution_count": 277,
   "metadata": {},
   "outputs": [
    {
     "data": {
      "text/plain": [
       "[2]"
      ]
     },
     "execution_count": 277,
     "metadata": {},
     "output_type": "execute_result"
    }
   ],
   "source": [
    "common"
   ]
  },
  {
   "cell_type": "code",
   "execution_count": 273,
   "metadata": {},
   "outputs": [
    {
     "data": {
      "text/plain": [
       "[]"
      ]
     },
     "execution_count": 273,
     "metadata": {},
     "output_type": "execute_result"
    }
   ],
   "source": [
    "common_for_cluster1_for_2nd_test = commonElements(NeighboursSetDict[0][1])\n",
    "common_for_cluster1_for_2nd_test"
   ]
  },
  {
   "cell_type": "code",
   "execution_count": 279,
   "metadata": {},
   "outputs": [],
   "source": [
    "final_common  = set(common_for_cluster1_for_1st_test) - (set(common_for_cluster1_for_1st_test) - set(common_for_cluster1_for_2nd_test))"
   ]
  },
  {
   "cell_type": "code",
   "execution_count": 280,
   "metadata": {},
   "outputs": [
    {
     "data": {
      "text/plain": [
       "set()"
      ]
     },
     "execution_count": 280,
     "metadata": {},
     "output_type": "execute_result"
    }
   ],
   "source": [
    "final_common"
   ]
  },
  {
   "cell_type": "code",
   "execution_count": 281,
   "metadata": {},
   "outputs": [
    {
     "data": {
      "text/plain": [
       "[2, 6]"
      ]
     },
     "execution_count": 281,
     "metadata": {},
     "output_type": "execute_result"
    }
   ],
   "source": [
    "common_for_cluster2_for_1st_test = commonElements(NeighboursSetDict[1][0])\n",
    "common_for_cluster2_for_1st_test"
   ]
  },
  {
   "cell_type": "code",
   "execution_count": 282,
   "metadata": {},
   "outputs": [
    {
     "data": {
      "text/plain": [
       "[2, 6]"
      ]
     },
     "execution_count": 282,
     "metadata": {},
     "output_type": "execute_result"
    }
   ],
   "source": [
    "common_for_cluster2_for_2nd_test = commonElements(NeighboursSetDict[1][1])\n",
    "common_for_cluster2_for_2nd_test"
   ]
  },
  {
   "cell_type": "code",
   "execution_count": 283,
   "metadata": {},
   "outputs": [],
   "source": [
    "final_common  = set(common_for_cluster2_for_1st_test) - (set(common_for_cluster2_for_1st_test) - set(common_for_cluster2_for_2nd_test))"
   ]
  },
  {
   "cell_type": "code",
   "execution_count": 284,
   "metadata": {},
   "outputs": [
    {
     "data": {
      "text/plain": [
       "{2, 6}"
      ]
     },
     "execution_count": 284,
     "metadata": {},
     "output_type": "execute_result"
    }
   ],
   "source": [
    "final_common"
   ]
  },
  {
   "cell_type": "code",
   "execution_count": null,
   "metadata": {},
   "outputs": [],
   "source": []
  }
 ],
 "metadata": {
  "kernelspec": {
   "display_name": "Python 3",
   "language": "python",
   "name": "python3"
  },
  "language_info": {
   "codemirror_mode": {
    "name": "ipython",
    "version": 3
   },
   "file_extension": ".py",
   "mimetype": "text/x-python",
   "name": "python",
   "nbconvert_exporter": "python",
   "pygments_lexer": "ipython3",
   "version": "3.6.5"
  },
  "toc": {
   "base_numbering": 1,
   "nav_menu": {},
   "number_sections": true,
   "sideBar": true,
   "skip_h1_title": false,
   "title_cell": "Table of Contents",
   "title_sidebar": "Contents",
   "toc_cell": false,
   "toc_position": {},
   "toc_section_display": true,
   "toc_window_display": false
  }
 },
 "nbformat": 4,
 "nbformat_minor": 2
}
