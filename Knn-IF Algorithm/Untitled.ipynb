{
 "cells": [
  {
   "cell_type": "code",
   "execution_count": 1,
   "metadata": {},
   "outputs": [],
   "source": [
    "import pandas as pd\n",
    "import numpy as np\n",
    "import random\n",
    "from sklearn import datasets, linear_model\n",
    "from sklearn.model_selection import train_test_split\n",
    "from matplotlib import pyplot as plt"
   ]
  },
  {
   "cell_type": "code",
   "execution_count": 2,
   "metadata": {
    "scrolled": true
   },
   "outputs": [],
   "source": [
    "classifier_list = []\n",
    "data1 = random.sample(range(1, 100), 20)\n",
    "data2 = random.sample(range(1, 100), 20)\n",
    "data3 = random.sample(range(1, 100), 20)\n",
    "data4 = random.sample(range(1, 100), 20)\n",
    "data5 = random.sample(range(1, 100), 20)\n",
    "for x in range(20):\n",
    "    classifier = (random.sample(range(97, 100), 1))\n",
    "    classifier = chr(classifier[0])\n",
    "#     print(classifier)\n",
    "    classifier_list.append(classifier)\n"
   ]
  },
  {
   "cell_type": "code",
   "execution_count": 28,
   "metadata": {},
   "outputs": [],
   "source": [
    "dataframe = pd.DataFrame({1:data1,2:data2,3:data3,4:data4,5:data5,'class':classifier_list})\n",
    "dataframe_new = pd.DataFrame({1:[5,8,6,1,3],2:[1,2,7,9,5],3:[4,7,8,9,5],'ans' : ['a','b','a','c','b']})"
   ]
  },
  {
   "cell_type": "code",
   "execution_count": 4,
   "metadata": {},
   "outputs": [
    {
     "data": {
      "text/plain": [
       "20"
      ]
     },
     "execution_count": 4,
     "metadata": {},
     "output_type": "execute_result"
    }
   ],
   "source": [
    "row,col = dataframe.shape\n",
    "row"
   ]
  },
  {
   "cell_type": "code",
   "execution_count": 29,
   "metadata": {},
   "outputs": [
    {
     "data": {
      "text/plain": [
       "5"
      ]
     },
     "execution_count": 29,
     "metadata": {},
     "output_type": "execute_result"
    }
   ],
   "source": [
    "row,col = dataframe_new.shape\n",
    "row"
   ]
  },
  {
   "cell_type": "code",
   "execution_count": 5,
   "metadata": {},
   "outputs": [],
   "source": [
    "# # \n",
    "# trainingSet = []\n",
    "# testSet = []\n",
    "# # x_test = []\n",
    "# # y_test = []"
   ]
  },
  {
   "cell_type": "code",
   "execution_count": 6,
   "metadata": {},
   "outputs": [],
   "source": [
    "# import random\n",
    "# def loadDataset(dataframe, split, trainingSet=[] , testSet=[]):\n",
    "# # \twith open(filename, 'rb') as csvfile:\n",
    "# # \t    lines = csv.reader(csvfile)\n",
    "# # \t    dataset = list(lines)\n",
    "# \t    for x in range(20):\n",
    "# \t        for y in range(5):\n",
    "# # \t            dataframe[x][y] = float(dataframe[x][y])\n",
    "# \t        if random.random() < split:\n",
    "# \t            trainingSet.append(dataframe[x])\n",
    "# \t        else:\n",
    "# \t            testSet.append(dataframe[x])"
   ]
  },
  {
   "cell_type": "code",
   "execution_count": 7,
   "metadata": {},
   "outputs": [],
   "source": [
    "# loadDataset(dataframe,0.66,trainingSet,testSet)"
   ]
  },
  {
   "cell_type": "code",
   "execution_count": 8,
   "metadata": {},
   "outputs": [],
   "source": [
    "X_train, X_test, y_train, y_test = train_test_split(dataframe.iloc[:, :-1].values, dataframe.iloc[:,1].values, test_size=0.2)\n",
    "# print (X_train.shape, y_train.shape)\n",
    "# print (X_test.shape, y_test.shape)"
   ]
  },
  {
   "cell_type": "code",
   "execution_count": 31,
   "metadata": {},
   "outputs": [],
   "source": [
    "X_train_new, X_test_new, y_train_new, y_test_new = train_test_split(dataframe_new.iloc[:, :-1].values, dataframe_new.iloc[:,1].values, test_size=0.2)\n"
   ]
  },
  {
   "cell_type": "code",
   "execution_count": 9,
   "metadata": {
    "scrolled": true
   },
   "outputs": [
    {
     "data": {
      "text/plain": [
       "((16, 5),\n",
       " array([58,  5, 20, 26, 48, 27, 59, 83, 51, 17, 70, 63, 74, 30, 97, 41], dtype=int64))"
      ]
     },
     "execution_count": 9,
     "metadata": {},
     "output_type": "execute_result"
    }
   ],
   "source": [
    "X_train.shape,y_train"
   ]
  },
  {
   "cell_type": "code",
   "execution_count": 32,
   "metadata": {},
   "outputs": [
    {
     "data": {
      "text/plain": [
       "((4, 3), array([5, 1, 7, 9], dtype=int64))"
      ]
     },
     "execution_count": 32,
     "metadata": {},
     "output_type": "execute_result"
    }
   ],
   "source": [
    "X_train_new.shape,y_train_new"
   ]
  },
  {
   "cell_type": "code",
   "execution_count": 10,
   "metadata": {},
   "outputs": [],
   "source": [
    "\n",
    "import math\n",
    "def euclideanDistance(instance1, instance2, length):\n",
    "\tdistance = 0\n",
    "\tdistance = (instance1 - instance2)\n",
    "\treturn abs(distance)"
   ]
  },
  {
   "cell_type": "code",
   "execution_count": 11,
   "metadata": {},
   "outputs": [
    {
     "data": {
      "text/plain": [
       "20"
      ]
     },
     "execution_count": 11,
     "metadata": {},
     "output_type": "execute_result"
    }
   ],
   "source": [
    "X_train[2][0]\n"
   ]
  },
  {
   "cell_type": "code",
   "execution_count": 12,
   "metadata": {},
   "outputs": [
    {
     "data": {
      "text/plain": [
       "((16,), (16, 5))"
      ]
     },
     "execution_count": 12,
     "metadata": {},
     "output_type": "execute_result"
    }
   ],
   "source": [
    "y_train.shape,X_train.shape"
   ]
  },
  {
   "cell_type": "code",
   "execution_count": 13,
   "metadata": {},
   "outputs": [
    {
     "data": {
      "text/plain": [
       "31"
      ]
     },
     "execution_count": 13,
     "metadata": {},
     "output_type": "execute_result"
    }
   ],
   "source": [
    "euclideanDistance(X_train[0][0],X_test[0][0],1)"
   ]
  },
  {
   "cell_type": "code",
   "execution_count": 14,
   "metadata": {},
   "outputs": [],
   "source": [
    "distances = []\n",
    "import operator"
   ]
  },
  {
   "cell_type": "code",
   "execution_count": 15,
   "metadata": {},
   "outputs": [],
   "source": [
    "for i in range(16):\n",
    "#     print(X_train[i][0])\n",
    "    dist = euclideanDistance(X_train[i][0],X_test[0][0],1)\n",
    "    distances.append((X_train[i], dist))"
   ]
  },
  {
   "cell_type": "code",
   "execution_count": 16,
   "metadata": {},
   "outputs": [],
   "source": [
    "distances.sort(key=operator.itemgetter(1))"
   ]
  },
  {
   "cell_type": "code",
   "execution_count": 17,
   "metadata": {},
   "outputs": [
    {
     "data": {
      "text/plain": [
       "[(array([48, 26, 10, 70, 31], dtype=int64), 1),\n",
       " (array([46, 17, 49, 41, 75], dtype=int64), 1),\n",
       " (array([42, 74, 54, 19, 90], dtype=int64), 5),\n",
       " (array([29, 27, 90, 95, 86], dtype=int64), 18),\n",
       " (array([66, 70,  2, 22, 20], dtype=int64), 19),\n",
       " (array([25, 41, 71, 94, 84], dtype=int64), 22),\n",
       " (array([71, 51, 29, 46, 92], dtype=int64), 24),\n",
       " (array([20, 20, 34, 28, 35], dtype=int64), 27),\n",
       " (array([76, 59, 98, 74, 26], dtype=int64), 29),\n",
       " (array([77, 48, 69, 52, 21], dtype=int64), 30),\n",
       " (array([78, 58, 19, 62, 93], dtype=int64), 31),\n",
       " (array([12, 83, 67, 34, 54], dtype=int64), 35),\n",
       " (array([84,  5, 32, 71, 32], dtype=int64), 37),\n",
       " (array([87, 97, 60, 90, 70], dtype=int64), 40),\n",
       " (array([ 3, 63, 97, 48, 36], dtype=int64), 44),\n",
       " (array([ 2, 30, 24, 37,  2], dtype=int64), 45)]"
      ]
     },
     "execution_count": 17,
     "metadata": {},
     "output_type": "execute_result"
    }
   ],
   "source": [
    "distances"
   ]
  },
  {
   "cell_type": "code",
   "execution_count": 18,
   "metadata": {},
   "outputs": [
    {
     "data": {
      "text/plain": [
       "[(array([48, 26, 10, 70, 31], dtype=int64), 1),\n",
       " (array([46, 17, 49, 41, 75], dtype=int64), 1),\n",
       " (array([42, 74, 54, 19, 90], dtype=int64), 5),\n",
       " (array([29, 27, 90, 95, 86], dtype=int64), 18),\n",
       " (array([66, 70,  2, 22, 20], dtype=int64), 19)]"
      ]
     },
     "execution_count": 18,
     "metadata": {},
     "output_type": "execute_result"
    }
   ],
   "source": [
    "distances[0:5]"
   ]
  },
  {
   "cell_type": "code",
   "execution_count": 19,
   "metadata": {},
   "outputs": [
    {
     "data": {
      "text/plain": [
       "[array([48, 26, 10, 70, 31], dtype=int64),\n",
       " array([46, 17, 49, 41, 75], dtype=int64),\n",
       " array([42, 74, 54, 19, 90], dtype=int64),\n",
       " array([29, 27, 90, 95, 86], dtype=int64),\n",
       " array([66, 70,  2, 22, 20], dtype=int64)]"
      ]
     },
     "execution_count": 19,
     "metadata": {},
     "output_type": "execute_result"
    }
   ],
   "source": [
    "neighbors = []\n",
    "for x in range(5):\n",
    "    neighbors.append(distances[x][0])\n",
    "neighbors"
   ]
  },
  {
   "cell_type": "code",
   "execution_count": 20,
   "metadata": {},
   "outputs": [],
   "source": [
    "neighbors_list = {}\n",
    "neighbors_list[X_test[0][0]] = neighbors"
   ]
  },
  {
   "cell_type": "code",
   "execution_count": 21,
   "metadata": {},
   "outputs": [
    {
     "data": {
      "text/plain": [
       "{47: [array([48, 26, 10, 70, 31], dtype=int64),\n",
       "  array([46, 17, 49, 41, 75], dtype=int64),\n",
       "  array([42, 74, 54, 19, 90], dtype=int64),\n",
       "  array([29, 27, 90, 95, 86], dtype=int64),\n",
       "  array([66, 70,  2, 22, 20], dtype=int64)]}"
      ]
     },
     "execution_count": 21,
     "metadata": {},
     "output_type": "execute_result"
    }
   ],
   "source": [
    "neighbors_list"
   ]
  },
  {
   "cell_type": "code",
   "execution_count": 186,
   "metadata": {},
   "outputs": [
    {
     "ename": "IndexError",
     "evalue": "invalid index to scalar variable.",
     "output_type": "error",
     "traceback": [
      "\u001b[1;31m---------------------------------------------------------------------------\u001b[0m",
      "\u001b[1;31mIndexError\u001b[0m                                Traceback (most recent call last)",
      "\u001b[1;32m<ipython-input-186-d913791cce55>\u001b[0m in \u001b[0;36m<module>\u001b[1;34m()\u001b[0m\n\u001b[0;32m      1\u001b[0m \u001b[1;32mfor\u001b[0m \u001b[0my\u001b[0m \u001b[1;32min\u001b[0m \u001b[0mneighbors_list\u001b[0m\u001b[1;33m:\u001b[0m\u001b[1;33m\u001b[0m\u001b[0m\n\u001b[0;32m      2\u001b[0m     \u001b[1;32mfor\u001b[0m \u001b[0mz\u001b[0m \u001b[1;32min\u001b[0m \u001b[0my\u001b[0m\u001b[1;33m:\u001b[0m\u001b[1;33m\u001b[0m\u001b[0m\n\u001b[1;32m----> 3\u001b[1;33m         \u001b[0mprint\u001b[0m\u001b[1;33m(\u001b[0m\u001b[0mz\u001b[0m\u001b[1;33m[\u001b[0m\u001b[1;36m0\u001b[0m\u001b[1;33m]\u001b[0m\u001b[1;33m)\u001b[0m\u001b[1;33m\u001b[0m\u001b[0m\n\u001b[0m",
      "\u001b[1;31mIndexError\u001b[0m: invalid index to scalar variable."
     ]
    }
   ],
   "source": [
    "for y in neighbors_list:\n",
    "    for z in y:\n",
    "        print(z)"
   ]
  },
  {
   "cell_type": "code",
   "execution_count": 190,
   "metadata": {},
   "outputs": [
    {
     "ename": "IndexError",
     "evalue": "invalid index to scalar variable.",
     "output_type": "error",
     "traceback": [
      "\u001b[1;31m---------------------------------------------------------------------------\u001b[0m",
      "\u001b[1;31mIndexError\u001b[0m                                Traceback (most recent call last)",
      "\u001b[1;32m<ipython-input-190-76b2e4edde6f>\u001b[0m in \u001b[0;36m<module>\u001b[1;34m()\u001b[0m\n\u001b[1;32m----> 1\u001b[1;33m \u001b[1;33m[\u001b[0m\u001b[0mx\u001b[0m\u001b[1;33m[\u001b[0m\u001b[1;36m1\u001b[0m\u001b[1;33m]\u001b[0m \u001b[1;32mfor\u001b[0m \u001b[0mx\u001b[0m \u001b[1;32min\u001b[0m \u001b[0mneighbors_list\u001b[0m\u001b[1;33m]\u001b[0m\u001b[1;33m\u001b[0m\u001b[0m\n\u001b[0m",
      "\u001b[1;32m<ipython-input-190-76b2e4edde6f>\u001b[0m in \u001b[0;36m<listcomp>\u001b[1;34m(.0)\u001b[0m\n\u001b[1;32m----> 1\u001b[1;33m \u001b[1;33m[\u001b[0m\u001b[0mx\u001b[0m\u001b[1;33m[\u001b[0m\u001b[1;36m1\u001b[0m\u001b[1;33m]\u001b[0m \u001b[1;32mfor\u001b[0m \u001b[0mx\u001b[0m \u001b[1;32min\u001b[0m \u001b[0mneighbors_list\u001b[0m\u001b[1;33m]\u001b[0m\u001b[1;33m\u001b[0m\u001b[0m\n\u001b[0m",
      "\u001b[1;31mIndexError\u001b[0m: invalid index to scalar variable."
     ]
    }
   ],
   "source": [
    "[x[1] for x in neighbors_list]"
   ]
  },
  {
   "cell_type": "code",
   "execution_count": 23,
   "metadata": {},
   "outputs": [
    {
     "data": {
      "text/plain": [
       "array([[47, 39, 58, 86, 82],\n",
       "       [36, 32, 44,  8, 33],\n",
       "       [73, 71, 18, 53, 94],\n",
       "       [49, 11, 73, 25, 40]], dtype=int64)"
      ]
     },
     "execution_count": 23,
     "metadata": {},
     "output_type": "execute_result"
    }
   ],
   "source": [
    "X_test"
   ]
  },
  {
   "cell_type": "code",
   "execution_count": 36,
   "metadata": {},
   "outputs": [
    {
     "data": {
      "text/plain": [
       "array([[8, 2, 7]], dtype=int64)"
      ]
     },
     "execution_count": 36,
     "metadata": {},
     "output_type": "execute_result"
    }
   ],
   "source": [
    "X_test_new\n"
   ]
  },
  {
   "cell_type": "code",
   "execution_count": 24,
   "metadata": {},
   "outputs": [],
   "source": [
    "# import pdb\n",
    "\n",
    "for y in range(3):\n",
    "    for i in range(16):\n",
    "    #     print(X_train[i][0])\n",
    "#         pdb.set_trace()\n",
    "        dist = euclideanDistance(X_train[i][0],X_test[y][0],1)\n",
    "        distances.append((X_train[i], dist))"
   ]
  },
  {
   "cell_type": "code",
   "execution_count": 25,
   "metadata": {},
   "outputs": [
    {
     "data": {
      "text/plain": [
       "[(array([48, 26, 10, 70, 31], dtype=int64), 1),\n",
       " (array([46, 17, 49, 41, 75], dtype=int64), 1),\n",
       " (array([42, 74, 54, 19, 90], dtype=int64), 5),\n",
       " (array([29, 27, 90, 95, 86], dtype=int64), 18),\n",
       " (array([66, 70,  2, 22, 20], dtype=int64), 19),\n",
       " (array([25, 41, 71, 94, 84], dtype=int64), 22),\n",
       " (array([71, 51, 29, 46, 92], dtype=int64), 24),\n",
       " (array([20, 20, 34, 28, 35], dtype=int64), 27),\n",
       " (array([76, 59, 98, 74, 26], dtype=int64), 29),\n",
       " (array([77, 48, 69, 52, 21], dtype=int64), 30),\n",
       " (array([78, 58, 19, 62, 93], dtype=int64), 31),\n",
       " (array([12, 83, 67, 34, 54], dtype=int64), 35),\n",
       " (array([84,  5, 32, 71, 32], dtype=int64), 37),\n",
       " (array([87, 97, 60, 90, 70], dtype=int64), 40),\n",
       " (array([ 3, 63, 97, 48, 36], dtype=int64), 44),\n",
       " (array([ 2, 30, 24, 37,  2], dtype=int64), 45),\n",
       " (array([78, 58, 19, 62, 93], dtype=int64), 31),\n",
       " (array([84,  5, 32, 71, 32], dtype=int64), 37),\n",
       " (array([20, 20, 34, 28, 35], dtype=int64), 27),\n",
       " (array([48, 26, 10, 70, 31], dtype=int64), 1),\n",
       " (array([77, 48, 69, 52, 21], dtype=int64), 30),\n",
       " (array([29, 27, 90, 95, 86], dtype=int64), 18),\n",
       " (array([76, 59, 98, 74, 26], dtype=int64), 29),\n",
       " (array([12, 83, 67, 34, 54], dtype=int64), 35),\n",
       " (array([71, 51, 29, 46, 92], dtype=int64), 24),\n",
       " (array([46, 17, 49, 41, 75], dtype=int64), 1),\n",
       " (array([66, 70,  2, 22, 20], dtype=int64), 19),\n",
       " (array([ 3, 63, 97, 48, 36], dtype=int64), 44),\n",
       " (array([42, 74, 54, 19, 90], dtype=int64), 5),\n",
       " (array([ 2, 30, 24, 37,  2], dtype=int64), 45),\n",
       " (array([87, 97, 60, 90, 70], dtype=int64), 40),\n",
       " (array([25, 41, 71, 94, 84], dtype=int64), 22),\n",
       " (array([78, 58, 19, 62, 93], dtype=int64), 42),\n",
       " (array([84,  5, 32, 71, 32], dtype=int64), 48),\n",
       " (array([20, 20, 34, 28, 35], dtype=int64), 16),\n",
       " (array([48, 26, 10, 70, 31], dtype=int64), 12),\n",
       " (array([77, 48, 69, 52, 21], dtype=int64), 41),\n",
       " (array([29, 27, 90, 95, 86], dtype=int64), 7),\n",
       " (array([76, 59, 98, 74, 26], dtype=int64), 40),\n",
       " (array([12, 83, 67, 34, 54], dtype=int64), 24),\n",
       " (array([71, 51, 29, 46, 92], dtype=int64), 35),\n",
       " (array([46, 17, 49, 41, 75], dtype=int64), 10),\n",
       " (array([66, 70,  2, 22, 20], dtype=int64), 30),\n",
       " (array([ 3, 63, 97, 48, 36], dtype=int64), 33),\n",
       " (array([42, 74, 54, 19, 90], dtype=int64), 6),\n",
       " (array([ 2, 30, 24, 37,  2], dtype=int64), 34),\n",
       " (array([87, 97, 60, 90, 70], dtype=int64), 51),\n",
       " (array([25, 41, 71, 94, 84], dtype=int64), 11),\n",
       " (array([78, 58, 19, 62, 93], dtype=int64), 5),\n",
       " (array([84,  5, 32, 71, 32], dtype=int64), 11),\n",
       " (array([20, 20, 34, 28, 35], dtype=int64), 53),\n",
       " (array([48, 26, 10, 70, 31], dtype=int64), 25),\n",
       " (array([77, 48, 69, 52, 21], dtype=int64), 4),\n",
       " (array([29, 27, 90, 95, 86], dtype=int64), 44),\n",
       " (array([76, 59, 98, 74, 26], dtype=int64), 3),\n",
       " (array([12, 83, 67, 34, 54], dtype=int64), 61),\n",
       " (array([71, 51, 29, 46, 92], dtype=int64), 2),\n",
       " (array([46, 17, 49, 41, 75], dtype=int64), 27),\n",
       " (array([66, 70,  2, 22, 20], dtype=int64), 7),\n",
       " (array([ 3, 63, 97, 48, 36], dtype=int64), 70),\n",
       " (array([42, 74, 54, 19, 90], dtype=int64), 31),\n",
       " (array([ 2, 30, 24, 37,  2], dtype=int64), 71),\n",
       " (array([87, 97, 60, 90, 70], dtype=int64), 14),\n",
       " (array([25, 41, 71, 94, 84], dtype=int64), 48),\n",
       " (array([78, 58, 19, 62, 93], dtype=int64), 29),\n",
       " (array([84,  5, 32, 71, 32], dtype=int64), 35),\n",
       " (array([20, 20, 34, 28, 35], dtype=int64), 29),\n",
       " (array([48, 26, 10, 70, 31], dtype=int64), 1),\n",
       " (array([77, 48, 69, 52, 21], dtype=int64), 28),\n",
       " (array([29, 27, 90, 95, 86], dtype=int64), 20),\n",
       " (array([76, 59, 98, 74, 26], dtype=int64), 27),\n",
       " (array([12, 83, 67, 34, 54], dtype=int64), 37),\n",
       " (array([71, 51, 29, 46, 92], dtype=int64), 22),\n",
       " (array([46, 17, 49, 41, 75], dtype=int64), 3),\n",
       " (array([66, 70,  2, 22, 20], dtype=int64), 17),\n",
       " (array([ 3, 63, 97, 48, 36], dtype=int64), 46),\n",
       " (array([42, 74, 54, 19, 90], dtype=int64), 7),\n",
       " (array([ 2, 30, 24, 37,  2], dtype=int64), 47),\n",
       " (array([87, 97, 60, 90, 70], dtype=int64), 38),\n",
       " (array([25, 41, 71, 94, 84], dtype=int64), 24),\n",
       " (array([78, 58, 19, 62, 93], dtype=int64), 31),\n",
       " (array([84,  5, 32, 71, 32], dtype=int64), 37),\n",
       " (array([20, 20, 34, 28, 35], dtype=int64), 27),\n",
       " (array([48, 26, 10, 70, 31], dtype=int64), 1),\n",
       " (array([77, 48, 69, 52, 21], dtype=int64), 30),\n",
       " (array([29, 27, 90, 95, 86], dtype=int64), 18),\n",
       " (array([76, 59, 98, 74, 26], dtype=int64), 29),\n",
       " (array([12, 83, 67, 34, 54], dtype=int64), 35),\n",
       " (array([71, 51, 29, 46, 92], dtype=int64), 24),\n",
       " (array([46, 17, 49, 41, 75], dtype=int64), 1),\n",
       " (array([66, 70,  2, 22, 20], dtype=int64), 19),\n",
       " (array([ 3, 63, 97, 48, 36], dtype=int64), 44),\n",
       " (array([42, 74, 54, 19, 90], dtype=int64), 5),\n",
       " (array([ 2, 30, 24, 37,  2], dtype=int64), 45),\n",
       " (array([87, 97, 60, 90, 70], dtype=int64), 40),\n",
       " (array([25, 41, 71, 94, 84], dtype=int64), 22),\n",
       " (array([78, 58, 19, 62, 93], dtype=int64), 42),\n",
       " (array([84,  5, 32, 71, 32], dtype=int64), 48),\n",
       " (array([20, 20, 34, 28, 35], dtype=int64), 16),\n",
       " (array([48, 26, 10, 70, 31], dtype=int64), 12),\n",
       " (array([77, 48, 69, 52, 21], dtype=int64), 41),\n",
       " (array([29, 27, 90, 95, 86], dtype=int64), 7),\n",
       " (array([76, 59, 98, 74, 26], dtype=int64), 40),\n",
       " (array([12, 83, 67, 34, 54], dtype=int64), 24),\n",
       " (array([71, 51, 29, 46, 92], dtype=int64), 35),\n",
       " (array([46, 17, 49, 41, 75], dtype=int64), 10),\n",
       " (array([66, 70,  2, 22, 20], dtype=int64), 30),\n",
       " (array([ 3, 63, 97, 48, 36], dtype=int64), 33),\n",
       " (array([42, 74, 54, 19, 90], dtype=int64), 6),\n",
       " (array([ 2, 30, 24, 37,  2], dtype=int64), 34),\n",
       " (array([87, 97, 60, 90, 70], dtype=int64), 51),\n",
       " (array([25, 41, 71, 94, 84], dtype=int64), 11),\n",
       " (array([78, 58, 19, 62, 93], dtype=int64), 5),\n",
       " (array([84,  5, 32, 71, 32], dtype=int64), 11),\n",
       " (array([20, 20, 34, 28, 35], dtype=int64), 53),\n",
       " (array([48, 26, 10, 70, 31], dtype=int64), 25),\n",
       " (array([77, 48, 69, 52, 21], dtype=int64), 4),\n",
       " (array([29, 27, 90, 95, 86], dtype=int64), 44),\n",
       " (array([76, 59, 98, 74, 26], dtype=int64), 3),\n",
       " (array([12, 83, 67, 34, 54], dtype=int64), 61),\n",
       " (array([71, 51, 29, 46, 92], dtype=int64), 2),\n",
       " (array([46, 17, 49, 41, 75], dtype=int64), 27),\n",
       " (array([66, 70,  2, 22, 20], dtype=int64), 7),\n",
       " (array([ 3, 63, 97, 48, 36], dtype=int64), 70),\n",
       " (array([42, 74, 54, 19, 90], dtype=int64), 31),\n",
       " (array([ 2, 30, 24, 37,  2], dtype=int64), 71),\n",
       " (array([87, 97, 60, 90, 70], dtype=int64), 14),\n",
       " (array([25, 41, 71, 94, 84], dtype=int64), 48)]"
      ]
     },
     "execution_count": 25,
     "metadata": {},
     "output_type": "execute_result"
    }
   ],
   "source": [
    "distances"
   ]
  },
  {
   "cell_type": "code",
   "execution_count": 38,
   "metadata": {},
   "outputs": [],
   "source": [
    "distances1 = []\n",
    "for y in range(1):\n",
    "    for i in range(4):\n",
    "    #     print(X_train[i][0])\n",
    "#         pdb.set_trace()\n",
    "        for x in range(3):\n",
    "            dist = euclideanDistance(X_train_new[i][x],X_test_new[y][x],1)\n",
    "            distances.append((X_train_new[i][x], dist))"
   ]
  },
  {
   "cell_type": "code",
   "execution_count": 39,
   "metadata": {},
   "outputs": [
    {
     "data": {
      "text/plain": [
       "[(3, 5),\n",
       " (5, 3),\n",
       " (5, 2),\n",
       " (5, 3),\n",
       " (1, 1),\n",
       " (4, 3),\n",
       " (6, 2),\n",
       " (7, 5),\n",
       " (8, 1),\n",
       " (1, 7),\n",
       " (9, 7),\n",
       " (9, 2)]"
      ]
     },
     "execution_count": 39,
     "metadata": {},
     "output_type": "execute_result"
    }
   ],
   "source": [
    "distances1"
   ]
  },
  {
   "cell_type": "code",
   "execution_count": 37,
   "metadata": {},
   "outputs": [
    {
     "data": {
      "text/html": [
       "<div>\n",
       "<table border=\"1\" class=\"dataframe\">\n",
       "  <thead>\n",
       "    <tr style=\"text-align: right;\">\n",
       "      <th></th>\n",
       "      <th>1</th>\n",
       "      <th>2</th>\n",
       "      <th>3</th>\n",
       "      <th>ans</th>\n",
       "    </tr>\n",
       "  </thead>\n",
       "  <tbody>\n",
       "    <tr>\n",
       "      <th>0</th>\n",
       "      <td>5</td>\n",
       "      <td>1</td>\n",
       "      <td>4</td>\n",
       "      <td>a</td>\n",
       "    </tr>\n",
       "    <tr>\n",
       "      <th>1</th>\n",
       "      <td>8</td>\n",
       "      <td>2</td>\n",
       "      <td>7</td>\n",
       "      <td>b</td>\n",
       "    </tr>\n",
       "    <tr>\n",
       "      <th>2</th>\n",
       "      <td>6</td>\n",
       "      <td>7</td>\n",
       "      <td>8</td>\n",
       "      <td>a</td>\n",
       "    </tr>\n",
       "    <tr>\n",
       "      <th>3</th>\n",
       "      <td>1</td>\n",
       "      <td>9</td>\n",
       "      <td>9</td>\n",
       "      <td>c</td>\n",
       "    </tr>\n",
       "    <tr>\n",
       "      <th>4</th>\n",
       "      <td>3</td>\n",
       "      <td>5</td>\n",
       "      <td>5</td>\n",
       "      <td>b</td>\n",
       "    </tr>\n",
       "  </tbody>\n",
       "</table>\n",
       "</div>"
      ],
      "text/plain": [
       "   1  2  3 ans\n",
       "0  5  1  4   a\n",
       "1  8  2  7   b\n",
       "2  6  7  8   a\n",
       "3  1  9  9   c\n",
       "4  3  5  5   b"
      ]
     },
     "execution_count": 37,
     "metadata": {},
     "output_type": "execute_result"
    }
   ],
   "source": [
    "dataframe_new"
   ]
  },
  {
   "cell_type": "code",
   "execution_count": null,
   "metadata": {},
   "outputs": [],
   "source": []
  }
 ],
 "metadata": {
  "kernelspec": {
   "display_name": "Python 3",
   "language": "python",
   "name": "python3"
  },
  "language_info": {
   "codemirror_mode": {
    "name": "ipython",
    "version": 3
   },
   "file_extension": ".py",
   "mimetype": "text/x-python",
   "name": "python",
   "nbconvert_exporter": "python",
   "pygments_lexer": "ipython3",
   "version": "3.6.5"
  },
  "toc": {
   "base_numbering": 1,
   "nav_menu": {},
   "number_sections": true,
   "sideBar": true,
   "skip_h1_title": false,
   "title_cell": "Table of Contents",
   "title_sidebar": "Contents",
   "toc_cell": false,
   "toc_position": {},
   "toc_section_display": true,
   "toc_window_display": false
  }
 },
 "nbformat": 4,
 "nbformat_minor": 2
}
