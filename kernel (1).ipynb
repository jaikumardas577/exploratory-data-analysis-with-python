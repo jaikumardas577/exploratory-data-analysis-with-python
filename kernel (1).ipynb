{
  "cells": [
    {
      "metadata": {
        "_uuid": "821dbccf9832d3a36408b81fc110733b2fb12fcd",
        "_cell_guid": "efb8b603-f0d8-4ec2-99a6-6a67ec080f17"
      },
      "cell_type": "markdown",
      "source": "# Introduction\nWelcome to the **[Learn Pandas](https://www.kaggle.com/learn/pandas)** track. These hands-on exercises are targeted for someone who has worked with Pandas a little before. \nEach page has a list of `relevant resources` you can use if you get stumped. The top item in each list has been custom-made to help you with the exercises on that page.\n\nThe first step in most data analytics projects is reading the data file. In this section, you'll create `Series` and `DataFrame` objects, both by hand and by reading data files.\n\n# Relevant Resources\n* ** [Creating, Reading and Writing Reference](https://www.kaggle.com/residentmario/creating-reading-and-writing-reference)**\n* [General Pandas Cheat Sheet](https://assets.datacamp.com/blog_assets/PandasPythonForDataScience.pdf)\n\n# Set Up\n\nRun the code cell below to load libraries you will need (including coad to check your answers)."
    },
    {
      "metadata": {
        "_uuid": "c20e15fb7c17fa437c9734129d3c9690a9240c75",
        "_cell_guid": "a8203c90-46ec-4958-9041-829e81d92e42",
        "collapsed": true,
        "trusted": false
      },
      "cell_type": "code",
      "source": "import pandas as pd\npd.set_option('max_rows', 5)\nfrom learntools.advanced_pandas.creating_reading_writing import *",
      "execution_count": null,
      "outputs": []
    },
    {
      "metadata": {
        "_uuid": "157aa9d4c746b08ced9390f00eca8941512a548d",
        "_cell_guid": "b0f57fdb-3a89-4b0e-980b-c80591b48471"
      },
      "cell_type": "markdown",
      "source": "# Checking Answers\n\nYou can check your answers in each of the exercises that follow using the  `check_qN` function provided in the code cell above (replacing `N` with the number of the exercise). For example here's how you would check an incorrect answer to exercise 1:"
    },
    {
      "metadata": {
        "_uuid": "e035d9f77a32545280adecc63ab1dc0263b3c9aa",
        "_cell_guid": "795c8aa5-8eb7-4320-a4a3-09fed84175b2",
        "collapsed": true,
        "trusted": false
      },
      "cell_type": "code",
      "source": "check_q1(pd.DataFrame())",
      "execution_count": null,
      "outputs": []
    },
    {
      "metadata": {
        "_uuid": "181dc283018b4503cfccef4dbbd3981e1ab4302f",
        "_cell_guid": "67d4c62f-36f7-46c7-bd2d-75c6d8f0e616"
      },
      "cell_type": "markdown",
      "source": "For the questions that follow, if you use `check_qN` on your answer, and your answer is right, a simple `True` value will be returned.\n\nIf you get stuck, you may run the `print(answer_qN())` function to print the answer outright."
    },
    {
      "metadata": {
        "_uuid": "2c6420c707d14bae3a0b817c2f0aa045bbc470ee",
        "_cell_guid": "1d588271-b244-4ab5-a66f-2b3963fadc82"
      },
      "cell_type": "markdown",
      "source": "# Exercises"
    },
    {
      "metadata": {
        "_uuid": "b1a7567d6334c841e00f390ec42128f0f10e0a41",
        "_cell_guid": "5df74d84-9491-4057-a01d-cf40a3d1d39d"
      },
      "cell_type": "markdown",
      "source": "**Exercise 1**: Create a `DataFrame` that looks like this:\n\n![](https://i.imgur.com/Ax3pp2A.png)"
    },
    {
      "metadata": {
        "_uuid": "db8fd0bdecea1eb3f74ed075101ce676272a3f57",
        "_cell_guid": "88885c4a-8cbd-494e-a8be-261aa5845ab0",
        "trusted": true
      },
      "cell_type": "code",
      "source": "# Your code here\nimport pandas as pd\nDataFrame = pd.DataFrame({\"Apples\":35,\"Bananas\":21}, index = [0])\nDataFrame",
      "execution_count": 13,
      "outputs": [
        {
          "output_type": "execute_result",
          "execution_count": 13,
          "data": {
            "text/plain": "   Apples  Bananas\n0      35       21",
            "text/html": "<div>\n<style scoped>\n    .dataframe tbody tr th:only-of-type {\n        vertical-align: middle;\n    }\n\n    .dataframe tbody tr th {\n        vertical-align: top;\n    }\n\n    .dataframe thead th {\n        text-align: right;\n    }\n</style>\n<table border=\"1\" class=\"dataframe\">\n  <thead>\n    <tr style=\"text-align: right;\">\n      <th></th>\n      <th>Apples</th>\n      <th>Bananas</th>\n    </tr>\n  </thead>\n  <tbody>\n    <tr>\n      <th>0</th>\n      <td>35</td>\n      <td>21</td>\n    </tr>\n  </tbody>\n</table>\n</div>"
          },
          "metadata": {}
        }
      ]
    },
    {
      "metadata": {
        "_uuid": "85f5963c04c230b4b1a440b0bd2e4795a51f63c9",
        "_cell_guid": "1d16dae3-41c5-4e2a-ba54-80838e171113"
      },
      "cell_type": "markdown",
      "source": "**Exercise 2**: Create the following `DataFrame`:\n\n![](https://i.imgur.com/CHPn7ZF.png)"
    },
    {
      "metadata": {
        "_uuid": "0f81afe385af4dde0314850a80d4adf508ad91f2",
        "_cell_guid": "76d8939b-5a37-45cd-adbe-01ceb93b5211",
        "trusted": true
      },
      "cell_type": "code",
      "source": "# Your code here\nimport pandas\nDataFrame = pd.DataFrame({\"Apples\":[35,41],\"Bananas\":[21,34]}, index = [\"2017 Sales\",\"2018 Sales\"])\nDataFrame",
      "execution_count": 11,
      "outputs": [
        {
          "output_type": "execute_result",
          "execution_count": 11,
          "data": {
            "text/plain": "            Apples  Bananas\n2017 Sales      35       21\n2018 Sales      41       34",
            "text/html": "<div>\n<style scoped>\n    .dataframe tbody tr th:only-of-type {\n        vertical-align: middle;\n    }\n\n    .dataframe tbody tr th {\n        vertical-align: top;\n    }\n\n    .dataframe thead th {\n        text-align: right;\n    }\n</style>\n<table border=\"1\" class=\"dataframe\">\n  <thead>\n    <tr style=\"text-align: right;\">\n      <th></th>\n      <th>Apples</th>\n      <th>Bananas</th>\n    </tr>\n  </thead>\n  <tbody>\n    <tr>\n      <th>2017 Sales</th>\n      <td>35</td>\n      <td>21</td>\n    </tr>\n    <tr>\n      <th>2018 Sales</th>\n      <td>41</td>\n      <td>34</td>\n    </tr>\n  </tbody>\n</table>\n</div>"
          },
          "metadata": {}
        }
      ]
    },
    {
      "metadata": {
        "_uuid": "b3e38780c5306bcdd2d466fd741bca7445dca7d9",
        "_cell_guid": "adde33ec-19de-45cf-8de7-9740a7bc3172"
      },
      "cell_type": "markdown",
      "source": "**Exercise 3**: Create a `Series` that looks like this:\n\n```\nFlour     4 cups\nMilk       1 cup\nEggs     2 large\nSpam       1 can\nName: Dinner, dtype: object\n```"
    },
    {
      "metadata": {
        "_uuid": "22a5a566e7705cb57f15b6c15e5e64ed078d4627",
        "_cell_guid": "fc088fde-32bd-4a26-97f1-efbe1f851a4b",
        "trusted": true
      },
      "cell_type": "code",
      "source": "# Your code here\nimport pandas as pd\npd.Series(['4 cups','1 cup', '2 large','1 can'], index = ['Flour','Milk','Eggs','Spam'],name = 'Dinner' )",
      "execution_count": 7,
      "outputs": [
        {
          "output_type": "execute_result",
          "execution_count": 7,
          "data": {
            "text/plain": "Flour     4 cups\nMilk       1 cup\nEggs     2 large\nSpam       1 can\nName: Dinner, dtype: object"
          },
          "metadata": {}
        }
      ]
    },
    {
      "metadata": {
        "_uuid": "b8c7ad15d6448e4b95f99cc64def47fdae10ab89",
        "_cell_guid": "b26ad337-26e6-4a6b-9fbc-d9106d308a8b"
      },
      "cell_type": "markdown",
      "source": "**Exercise 4**: Read the following `csv` dataset on wine reviews into the a `DataFrame`:\n\n![](https://i.imgur.com/74RCZtU.png)\n\nThe filepath to the CSV file is `../input/wine-reviews/winemag-data_first150k.csv`."
    },
    {
      "metadata": {
        "_uuid": "4c31028faf310cec34dd1cd38bf579c63a487e6f",
        "_cell_guid": "7b2fe999-1497-428c-bf48-c163e20a0476",
        "trusted": true
      },
      "cell_type": "code",
      "source": "# Your code here \nimport pandas as pd\ndf = pd.read_csv(\"../input/wine-reviews/winemag-data_first150k.csv\")\ndf.head()",
      "execution_count": 5,
      "outputs": [
        {
          "output_type": "execute_result",
          "execution_count": 5,
          "data": {
            "text/plain": "   Unnamed: 0           ...                              winery\n0           0           ...                               Heitz\n1           1           ...             Bodega Carmen Rodríguez\n2           2           ...                            Macauley\n3           3           ...                               Ponzi\n4           4           ...                Domaine de la Bégude\n\n[5 rows x 11 columns]",
            "text/html": "<div>\n<style scoped>\n    .dataframe tbody tr th:only-of-type {\n        vertical-align: middle;\n    }\n\n    .dataframe tbody tr th {\n        vertical-align: top;\n    }\n\n    .dataframe thead th {\n        text-align: right;\n    }\n</style>\n<table border=\"1\" class=\"dataframe\">\n  <thead>\n    <tr style=\"text-align: right;\">\n      <th></th>\n      <th>Unnamed: 0</th>\n      <th>country</th>\n      <th>description</th>\n      <th>designation</th>\n      <th>points</th>\n      <th>price</th>\n      <th>province</th>\n      <th>region_1</th>\n      <th>region_2</th>\n      <th>variety</th>\n      <th>winery</th>\n    </tr>\n  </thead>\n  <tbody>\n    <tr>\n      <th>0</th>\n      <td>0</td>\n      <td>US</td>\n      <td>This tremendous 100% varietal wine hails from ...</td>\n      <td>Martha's Vineyard</td>\n      <td>96</td>\n      <td>235.0</td>\n      <td>California</td>\n      <td>Napa Valley</td>\n      <td>Napa</td>\n      <td>Cabernet Sauvignon</td>\n      <td>Heitz</td>\n    </tr>\n    <tr>\n      <th>1</th>\n      <td>1</td>\n      <td>Spain</td>\n      <td>Ripe aromas of fig, blackberry and cassis are ...</td>\n      <td>Carodorum Selección Especial Reserva</td>\n      <td>96</td>\n      <td>110.0</td>\n      <td>Northern Spain</td>\n      <td>Toro</td>\n      <td>NaN</td>\n      <td>Tinta de Toro</td>\n      <td>Bodega Carmen Rodríguez</td>\n    </tr>\n    <tr>\n      <th>2</th>\n      <td>2</td>\n      <td>US</td>\n      <td>Mac Watson honors the memory of a wine once ma...</td>\n      <td>Special Selected Late Harvest</td>\n      <td>96</td>\n      <td>90.0</td>\n      <td>California</td>\n      <td>Knights Valley</td>\n      <td>Sonoma</td>\n      <td>Sauvignon Blanc</td>\n      <td>Macauley</td>\n    </tr>\n    <tr>\n      <th>3</th>\n      <td>3</td>\n      <td>US</td>\n      <td>This spent 20 months in 30% new French oak, an...</td>\n      <td>Reserve</td>\n      <td>96</td>\n      <td>65.0</td>\n      <td>Oregon</td>\n      <td>Willamette Valley</td>\n      <td>Willamette Valley</td>\n      <td>Pinot Noir</td>\n      <td>Ponzi</td>\n    </tr>\n    <tr>\n      <th>4</th>\n      <td>4</td>\n      <td>France</td>\n      <td>This is the top wine from La Bégude, named aft...</td>\n      <td>La Brûlade</td>\n      <td>95</td>\n      <td>66.0</td>\n      <td>Provence</td>\n      <td>Bandol</td>\n      <td>NaN</td>\n      <td>Provence red blend</td>\n      <td>Domaine de la Bégude</td>\n    </tr>\n  </tbody>\n</table>\n</div>"
          },
          "metadata": {}
        }
      ]
    },
    {
      "metadata": {
        "_uuid": "8075f4da95182203626c69d8b28acd7fe9660d2a",
        "_cell_guid": "915faad5-6110-4cb2-9dcb-bce167878e27"
      },
      "cell_type": "markdown",
      "source": "**Exercise 6****: Suppose we have the following `DataFrame`:"
    },
    {
      "metadata": {
        "_uuid": "c3353ca46fd3817a4569fb5ed4bb82dd3846c934",
        "_cell_guid": "e2924830-6ec4-41ec-8e29-5606298ce928",
        "collapsed": true,
        "trusted": false
      },
      "cell_type": "code",
      "source": "q6_df = pd.DataFrame({'Cows': [12, 20], 'Goats': [22, 19]}, index=['Year 1', 'Year 2'])",
      "execution_count": null,
      "outputs": []
    },
    {
      "metadata": {
        "_uuid": "e28acd9d39b24d0823af4dd832d9bc7240030434",
        "_cell_guid": "7bf43a01-3c69-4a51-9061-012581f004f5"
      },
      "cell_type": "markdown",
      "source": "Save this `DataFrame` to disc as a `csv` file with the name `cows_and_goats.csv`."
    },
    {
      "metadata": {
        "_uuid": "d450cb71dd6cab95c7f604d30505534c562c854f",
        "_cell_guid": "3e60ff82-a7d5-4712-81fd-6ca0851687f5",
        "trusted": true
      },
      "cell_type": "code",
      "source": "# Your code here\nimport pandas as pd\nq6_df = pd.DataFrame({'Cows': [12, 20], 'Goats': [22, 19]}, index=['Year 1', 'Year 2'])\nq6_df.to_csv()\nq6_df.to_csv(\"G:/ZeroToDeepLearning/cows_and_goats.csv\", sep='\\t', encoding='utf-8')\n",
      "execution_count": 3,
      "outputs": []
    },
    {
      "metadata": {
        "_uuid": "d0672be743ede0fc750c9c2b385ea8838e88c841",
        "_cell_guid": "209d5beb-afc8-4c0c-a062-b8b9f82371d3"
      },
      "cell_type": "markdown",
      "source": "**Exercise 7**: This exercise is optional. Read the following `SQL` data into a `DataFrame`:\n\n![](https://i.imgur.com/mmvbOT3.png)\n\nThe filepath is `../input/pitchfork-data/database.sqlite`. Hint: use the `sqlite3` library. The name of the table is `artists`."
    },
    {
      "metadata": {
        "_uuid": "682790cef8f7d390e5a0ac16af017a6500bab41c",
        "_cell_guid": "7f322fbf-6322-414b-a682-3f57edb7d664",
        "trusted": true
      },
      "cell_type": "code",
      "source": "# Your Code Here\nimport sqlite3\nconn = sqlite3.connect(\"../input/pitchfork-data/database.sqlite\")\ntype(conn)\nDataFrame = pd.read_sql_query(\"SELECT * FROM artists\", conn)\nDataFrame\n",
      "execution_count": 17,
      "outputs": [
        {
          "output_type": "execute_result",
          "execution_count": 17,
          "data": {
            "text/plain": "       reviewid               artist\n0         22703       massive attack\n1         22721             krallice\n2         22659         uranium club\n3         22661              kleenex\n4         22661              liliput\n5         22725                 taso\n6         22722      various artists\n7         22704          little simz\n8         22694           yotam avni\n9         22714            brian eno\n10        22724              the lox\n11        22715        harry bertoia\n12        22745       run the jewels\n13        22700       steven warwick\n14        22720           yasiin bey\n15        22699            smoke dza\n16        22699            pete rock\n17        22665      various artists\n18        22666              senyawa\n19        22719    chance the rapper\n20        22719              jeremih\n21        22667      jamire williams\n22        22691            the-dream\n23        22702       worm ouroboros\n24        22718      nine inch nails\n25        22706           elder ones\n26        22695      the microphones\n27        22713            ben frost\n28        22705      kacey musgraves\n29        22532              jay som\n...         ...                  ...\n18801       831                 blur\n18802      7339          songs: ohia\n18803      4850               looper\n18804      8598  the wedding present\n18805      1608            cornelius\n18806      1610            cornelius\n18807      4324        damien jurado\n18808      7449         squarepusher\n18809      1514               clinic\n18810      8677                wilco\n18811      7051              sebadoh\n18812      6435      poster children\n18813      1014       built to spill\n18814      7460         starflyer 59\n18815      2965        jason falkner\n18816      7981              the the\n18817      8835                  xtc\n18818      6138            pan sonic\n18819      1242             califone\n18820      1023     burning airlines\n18821       287   arling and cameron\n18822      3741  john wesley harding\n18823      6455           sam prekop\n18824       361             autechre\n18825      6372                 pole\n18826      1535              coldcut\n18827      1341              cassius\n18828      5376             mojave 3\n18829      2413        don caballero\n18830      3723       neil hamburger\n\n[18831 rows x 2 columns]",
            "text/html": "<div>\n<style scoped>\n    .dataframe tbody tr th:only-of-type {\n        vertical-align: middle;\n    }\n\n    .dataframe tbody tr th {\n        vertical-align: top;\n    }\n\n    .dataframe thead th {\n        text-align: right;\n    }\n</style>\n<table border=\"1\" class=\"dataframe\">\n  <thead>\n    <tr style=\"text-align: right;\">\n      <th></th>\n      <th>reviewid</th>\n      <th>artist</th>\n    </tr>\n  </thead>\n  <tbody>\n    <tr>\n      <th>0</th>\n      <td>22703</td>\n      <td>massive attack</td>\n    </tr>\n    <tr>\n      <th>1</th>\n      <td>22721</td>\n      <td>krallice</td>\n    </tr>\n    <tr>\n      <th>2</th>\n      <td>22659</td>\n      <td>uranium club</td>\n    </tr>\n    <tr>\n      <th>3</th>\n      <td>22661</td>\n      <td>kleenex</td>\n    </tr>\n    <tr>\n      <th>4</th>\n      <td>22661</td>\n      <td>liliput</td>\n    </tr>\n    <tr>\n      <th>5</th>\n      <td>22725</td>\n      <td>taso</td>\n    </tr>\n    <tr>\n      <th>6</th>\n      <td>22722</td>\n      <td>various artists</td>\n    </tr>\n    <tr>\n      <th>7</th>\n      <td>22704</td>\n      <td>little simz</td>\n    </tr>\n    <tr>\n      <th>8</th>\n      <td>22694</td>\n      <td>yotam avni</td>\n    </tr>\n    <tr>\n      <th>9</th>\n      <td>22714</td>\n      <td>brian eno</td>\n    </tr>\n    <tr>\n      <th>10</th>\n      <td>22724</td>\n      <td>the lox</td>\n    </tr>\n    <tr>\n      <th>11</th>\n      <td>22715</td>\n      <td>harry bertoia</td>\n    </tr>\n    <tr>\n      <th>12</th>\n      <td>22745</td>\n      <td>run the jewels</td>\n    </tr>\n    <tr>\n      <th>13</th>\n      <td>22700</td>\n      <td>steven warwick</td>\n    </tr>\n    <tr>\n      <th>14</th>\n      <td>22720</td>\n      <td>yasiin bey</td>\n    </tr>\n    <tr>\n      <th>15</th>\n      <td>22699</td>\n      <td>smoke dza</td>\n    </tr>\n    <tr>\n      <th>16</th>\n      <td>22699</td>\n      <td>pete rock</td>\n    </tr>\n    <tr>\n      <th>17</th>\n      <td>22665</td>\n      <td>various artists</td>\n    </tr>\n    <tr>\n      <th>18</th>\n      <td>22666</td>\n      <td>senyawa</td>\n    </tr>\n    <tr>\n      <th>19</th>\n      <td>22719</td>\n      <td>chance the rapper</td>\n    </tr>\n    <tr>\n      <th>20</th>\n      <td>22719</td>\n      <td>jeremih</td>\n    </tr>\n    <tr>\n      <th>21</th>\n      <td>22667</td>\n      <td>jamire williams</td>\n    </tr>\n    <tr>\n      <th>22</th>\n      <td>22691</td>\n      <td>the-dream</td>\n    </tr>\n    <tr>\n      <th>23</th>\n      <td>22702</td>\n      <td>worm ouroboros</td>\n    </tr>\n    <tr>\n      <th>24</th>\n      <td>22718</td>\n      <td>nine inch nails</td>\n    </tr>\n    <tr>\n      <th>25</th>\n      <td>22706</td>\n      <td>elder ones</td>\n    </tr>\n    <tr>\n      <th>26</th>\n      <td>22695</td>\n      <td>the microphones</td>\n    </tr>\n    <tr>\n      <th>27</th>\n      <td>22713</td>\n      <td>ben frost</td>\n    </tr>\n    <tr>\n      <th>28</th>\n      <td>22705</td>\n      <td>kacey musgraves</td>\n    </tr>\n    <tr>\n      <th>29</th>\n      <td>22532</td>\n      <td>jay som</td>\n    </tr>\n    <tr>\n      <th>...</th>\n      <td>...</td>\n      <td>...</td>\n    </tr>\n    <tr>\n      <th>18801</th>\n      <td>831</td>\n      <td>blur</td>\n    </tr>\n    <tr>\n      <th>18802</th>\n      <td>7339</td>\n      <td>songs: ohia</td>\n    </tr>\n    <tr>\n      <th>18803</th>\n      <td>4850</td>\n      <td>looper</td>\n    </tr>\n    <tr>\n      <th>18804</th>\n      <td>8598</td>\n      <td>the wedding present</td>\n    </tr>\n    <tr>\n      <th>18805</th>\n      <td>1608</td>\n      <td>cornelius</td>\n    </tr>\n    <tr>\n      <th>18806</th>\n      <td>1610</td>\n      <td>cornelius</td>\n    </tr>\n    <tr>\n      <th>18807</th>\n      <td>4324</td>\n      <td>damien jurado</td>\n    </tr>\n    <tr>\n      <th>18808</th>\n      <td>7449</td>\n      <td>squarepusher</td>\n    </tr>\n    <tr>\n      <th>18809</th>\n      <td>1514</td>\n      <td>clinic</td>\n    </tr>\n    <tr>\n      <th>18810</th>\n      <td>8677</td>\n      <td>wilco</td>\n    </tr>\n    <tr>\n      <th>18811</th>\n      <td>7051</td>\n      <td>sebadoh</td>\n    </tr>\n    <tr>\n      <th>18812</th>\n      <td>6435</td>\n      <td>poster children</td>\n    </tr>\n    <tr>\n      <th>18813</th>\n      <td>1014</td>\n      <td>built to spill</td>\n    </tr>\n    <tr>\n      <th>18814</th>\n      <td>7460</td>\n      <td>starflyer 59</td>\n    </tr>\n    <tr>\n      <th>18815</th>\n      <td>2965</td>\n      <td>jason falkner</td>\n    </tr>\n    <tr>\n      <th>18816</th>\n      <td>7981</td>\n      <td>the the</td>\n    </tr>\n    <tr>\n      <th>18817</th>\n      <td>8835</td>\n      <td>xtc</td>\n    </tr>\n    <tr>\n      <th>18818</th>\n      <td>6138</td>\n      <td>pan sonic</td>\n    </tr>\n    <tr>\n      <th>18819</th>\n      <td>1242</td>\n      <td>califone</td>\n    </tr>\n    <tr>\n      <th>18820</th>\n      <td>1023</td>\n      <td>burning airlines</td>\n    </tr>\n    <tr>\n      <th>18821</th>\n      <td>287</td>\n      <td>arling and cameron</td>\n    </tr>\n    <tr>\n      <th>18822</th>\n      <td>3741</td>\n      <td>john wesley harding</td>\n    </tr>\n    <tr>\n      <th>18823</th>\n      <td>6455</td>\n      <td>sam prekop</td>\n    </tr>\n    <tr>\n      <th>18824</th>\n      <td>361</td>\n      <td>autechre</td>\n    </tr>\n    <tr>\n      <th>18825</th>\n      <td>6372</td>\n      <td>pole</td>\n    </tr>\n    <tr>\n      <th>18826</th>\n      <td>1535</td>\n      <td>coldcut</td>\n    </tr>\n    <tr>\n      <th>18827</th>\n      <td>1341</td>\n      <td>cassius</td>\n    </tr>\n    <tr>\n      <th>18828</th>\n      <td>5376</td>\n      <td>mojave 3</td>\n    </tr>\n    <tr>\n      <th>18829</th>\n      <td>2413</td>\n      <td>don caballero</td>\n    </tr>\n    <tr>\n      <th>18830</th>\n      <td>3723</td>\n      <td>neil hamburger</td>\n    </tr>\n  </tbody>\n</table>\n<p>18831 rows × 2 columns</p>\n</div>"
          },
          "metadata": {}
        }
      ]
    },
    {
      "metadata": {
        "_uuid": "362d33a7f561e3b9b72034bc7ac1a23a49e1de89",
        "_cell_guid": "df1aeded-b46d-4893-a274-3f0c9bebdb11"
      },
      "cell_type": "markdown",
      "source": "## Keep going\n\nMove on to the **[indexing, selecting and assigning workbook](https://www.kaggle.com/kernels/fork/587910)**\n\n___\nThis is part of the [Learn Pandas](https://www.kaggle.com/learn/pandas) series."
    }
  ],
  "metadata": {
    "language_info": {
      "name": "python",
      "version": "3.6.6",
      "mimetype": "text/x-python",
      "codemirror_mode": {
        "name": "ipython",
        "version": 3
      },
      "pygments_lexer": "ipython3",
      "nbconvert_exporter": "python",
      "file_extension": ".py"
    },
    "kernelspec": {
      "display_name": "Python 3",
      "language": "python",
      "name": "python3"
    }
  },
  "nbformat": 4,
  "nbformat_minor": 1
}